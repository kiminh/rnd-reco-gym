{
 "cells": [
  {
   "cell_type": "code",
   "execution_count": 1,
   "metadata": {},
   "outputs": [],
   "source": [
    "from recogym import Configuration"
   ]
  },
  {
   "cell_type": "code",
   "execution_count": 2,
   "metadata": {
    "pycharm": {
     "name": "#%%\n"
    }
   },
   "outputs": [
    {
     "name": "stdout",
     "output_type": "stream",
     "text": [
      "SingleActionAgent %%%% num_products: 1000\n",
      "TOTAL num_clicks: 713\n",
      "TOTAL num_events: 80353\n",
      "TOTAL Click Through Rate: 0.0089\n"
     ]
    }
   ],
   "source": [
    "import gym\n",
    "from recogym import env_1_args\n",
    "from recogym.agents.single_action_agent import SingleActionAgent\n",
    "\n",
    "env_1_args['random_seed'] = 42\n",
    "\n",
    "env_1_args['num_steps'] = 10\n",
    "\n",
    "env = gym.make('reco-gym-v1')\n",
    "\n",
    "env.init_gym(env_1_args)\n",
    "\n",
    "# Instantiate instance of CFAgent class.\n",
    "\n",
    "num_products = 1000\n",
    "\n",
    "num_offline_users = 5\n",
    "num_online_users = 1000\n",
    "\n",
    "static_agent = SingleActionAgent(Configuration({\n",
    "    **env_1_args,\n",
    "    'num_products': num_products,\n",
    "}))\n",
    "\n",
    "# Resets random seed back to 42, or whatever we set it to in env_0_args.\n",
    "\n",
    "env.reset_random_seed()\n",
    "\n",
    "num_clicks, num_events = 0, 0\n",
    "\n",
    "# ****** TRAIN OFFLINE ******\n",
    "\n",
    "unique_offline_user_id = 0\n",
    "\n",
    "for _ in range(num_offline_users):\n",
    "\n",
    "    # Reset env and set done to False.\n",
    "\n",
    "    unique_offline_user_id += 1\n",
    "\n",
    "    env.reset()\n",
    "    done = False\n",
    "    observation, reward, done = None, 0, False\n",
    "\n",
    "    while not done: # ----- LOOP\n",
    "\n",
    "        old_observation = observation\n",
    "\n",
    "        action, observation, reward, done, info = env.step_offline(observation, reward, done)\n",
    "\n",
    "        static_agent.train(old_observation, action, reward, done) # TRAIN OFFLINE\n",
    "\n",
    "# ****** TRAIN ONLINE ******\n",
    "\n",
    "unique_online_user_id = 0\n",
    "\n",
    "for _ in range(num_online_users):\n",
    "\n",
    "    # Reset env and set done to False.\n",
    "\n",
    "    unique_online_user_id += 1\n",
    "\n",
    "    env.reset(unique_online_user_id)\n",
    "\n",
    "    observation, _, done, _ = env.step(None)\n",
    "    reward = None\n",
    "\n",
    "    while not done: # ----- LOOP\n",
    "        \n",
    "        # print(\"\\n========================== ONLINE LOOP START ===========================\")\n",
    "\n",
    "        # print(f\"ONLINE %%%% RUN act() obs sessions {observation.sessions()}\")\n",
    "\n",
    "        action = static_agent.act(observation, reward, done) # create recommendation product id\n",
    "\n",
    "        # print(f\"ONLINE %%%% action {action}, obs sessions {observation.sessions()} --> RUN step()\")\n",
    "\n",
    "        observation, reward, done, info = env.step(action['a'])\n",
    "\n",
    "        # print(f\"ONLINE %%%% calc obs sessions {observation.sessions()}, reward {reward}\")\n",
    "\n",
    "        # Used for calculating click through rate.\n",
    "\n",
    "        num_clicks += 1 if reward == 1 and reward is not None else 0\n",
    "        num_events += 1\n",
    "        \n",
    "        # print(f\"ONLINE %%%% num_clicks: {num_clicks}\")\n",
    "        # print(f\"ONLINE %%%% num_events: {num_events}\")\n",
    "        # print(f\"ONLINE %%%% CTR {num_clicks / num_events}\")\n",
    "        #\n",
    "        # print(\"============================== ONLINE LOOP END ============================\\n\")\n",
    "\n",
    "ctr = num_clicks / num_events\n",
    "\n",
    "# ------------------------------------\n",
    "\n",
    "print(f\"TOTAL num_clicks: {num_clicks}\")\n",
    "print(f\"TOTAL num_events: {num_events}\")\n",
    "print(f\"TOTAL Click Through Rate: {ctr:.4f}\")\n",
    "\n"
   ]
  }
 ],
 "metadata": {
  "kernelspec": {
   "display_name": "Python 3",
   "language": "python",
   "name": "python3"
  },
  "language_info": {
   "codemirror_mode": {
    "name": "ipython",
    "version": 3
   },
   "file_extension": ".py",
   "mimetype": "text/x-python",
   "name": "python",
   "nbconvert_exporter": "python",
   "pygments_lexer": "ipython3",
   "version": "3.7.7"
  }
 },
 "nbformat": 4,
 "nbformat_minor": 2
}