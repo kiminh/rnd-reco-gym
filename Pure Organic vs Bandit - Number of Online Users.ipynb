{
 "cells": [
  {
   "cell_type": "markdown",
   "metadata": {
    "pycharm": {}
   },
   "source": [
    "## RecoGym -  Pure Organic vs Pure Bandit\n",
    "#### Varying the number of online users\n",
    "\n",
    "The purpose of this notebook is to show that a \"Pure Organic\" algorithm i.e. an algorithm that orders recommendations according to a next (organic) item prediction method is able to harness relatively plentiful organic data i.e. data the users provide themselves by organically interacting with the website.  Although the data is plentiful, it is only a proxy of the data of interest for making recommendations which is indeed bandit data.\n",
    "\n",
    "In contrast a \"Pure Bandit\" algorithm receives feedback from the recommendations however it is only able to discover that poor recommendations are poor by trying them extensively and performing poorly.\n"
   ]
  },
  {
   "cell_type": "code",
   "execution_count": 1,
   "metadata": {
    "pycharm": {}
   },
   "outputs": [],
   "source": [
    "import numpy as np\n",
    "\n",
    "import gym, recogym\n",
    "import pandas as pd\n",
    "\n",
    "from recogym import env_1_args, Configuration\n",
    "from copy import deepcopy\n",
    "\n",
    "env_1_args['random_seed'] = 5\n",
    "\n",
    "# initialize the gym for the first time by calling .make() and .init_gym()\n",
    "env = gym.make('reco-gym-v1')\n",
    "env_1_args['num_products'] = 80"
   ]
  },
  {
   "cell_type": "code",
   "execution_count": 2,
   "metadata": {
    "pycharm": {}
   },
   "outputs": [],
   "source": [
    "env.init_gym(env_1_args)\n",
    "\n",
    "# Create environments that differ only in the amount of noise \"number of flips\".\n",
    "env_dict = {}\n",
    "for f in (int(env.config.num_products * 2 / 8),):  # Number of flips (difference between organic and bandit behaviour).\n",
    "    env_dict[f] = deepcopy(env)\n",
    "    env_dict[f].generate_beta(f)"
   ]
  },
  {
   "cell_type": "code",
   "execution_count": 4,
   "metadata": {
    "pycharm": {}
   },
   "outputs": [],
   "source": [
    "from recogym.agents import BanditCount, bandit_count_args\n",
    "from recogym.agents import OrganicCount, organic_count_args"
   ]
  },
  {
   "cell_type": "code",
   "execution_count": 5,
   "metadata": {
    "pycharm": {}
   },
   "outputs": [],
   "source": [
    "d_agent = {\n",
    "    'Pure Organic': OrganicCount(Configuration({\n",
    "        **organic_count_args,\n",
    "        **env_1_args,\n",
    "    })),\n",
    "    'Pure Bandit': BanditCount(Configuration({\n",
    "        **bandit_count_args,\n",
    "        **env_1_args,\n",
    "    })),\n",
    "}"
   ]
  },
  {
   "cell_type": "code",
   "execution_count": null,
   "metadata": {
    "pycharm": {}
   },
   "outputs": [
    {
     "name": "stdout",
     "output_type": "stream",
     "text": [
      "Start: Agent Training #0\n",
      "Start: Agent Testing #0\n",
      "End: Agent Testing #0 (209.6048460006714s)\n",
      "Start: Agent Training #0\n",
      "Start: Agent Testing #0\n"
     ]
    }
   ],
   "source": [
    "offline_organic = 10000\n",
    "eval_size = 20000\n",
    "l = list()\n",
    "for samples in (1, 10, 100, 1000, 10000):\n",
    "    for name in d_agent.keys():\n",
    "        agent = d_agent[name]\n",
    "        for f in env_dict.keys():\n",
    "            c05, c0025, c0975 = recogym.test_agent(\n",
    "                deepcopy(env_dict[f]),\n",
    "                deepcopy(agent),\n",
    "                samples,\n",
    "                eval_size,\n",
    "                offline_organic\n",
    "            )\n",
    "            df = {}\n",
    "            df['agent'] = name\n",
    "            df['training'] = samples\n",
    "            df['ctr_05'] = [c05]\n",
    "            df['ctr_0025'] = [c0025]\n",
    "            df['ctr_0975'] = [c0975]\n",
    "            df['flips'] = 'flips=%03d' % (f)\n",
    "            df['f'] = f\n",
    "\n",
    "            l.append(pd.DataFrame().from_dict(df))\n",
    "res = pd.concat(l)"
   ]
  },
  {
   "cell_type": "code",
   "execution_count": null,
   "metadata": {
    "pycharm": {}
   },
   "outputs": [],
   "source": [
    "# Enables the %%R magic.\n",
    "%load_ext rpy2.ipython\n",
    "\n",
    "import warnings\n",
    "warnings.filterwarnings('ignore')"
   ]
  },
  {
   "cell_type": "code",
   "execution_count": null,
   "metadata": {
    "pycharm": {}
   },
   "outputs": [],
   "source": [
    "%%R -i res -w 5 -h 5 --units in -r 200\n",
    "# Import df from global environment.\n",
    "# Make default figure size 5 by 5 inches with 200 dpi resolution.\n",
    "\n",
    "library(ggplot2)\n",
    "library(data.table)\n",
    "library(scales)\n",
    "res<-data.table(res)\n",
    "res[agent=='Pure Bandit',training:=1.1*training] # Dodge.\n",
    "\n",
    "ggplot(res) + geom_errorbar(\n",
    "    aes(x=training, ymin=ctr_0025, ymax=ctr_0975, colour=agent), width=0) +\n",
    "    facet_grid(flips ~ .) +\n",
    "    theme_bw() +\n",
    "    ylab('Click through rate') +\n",
    "    xlab('Number of Online Users') +\n",
    "    scale_x_log10() +\n",
    "    scale_y_continuous(labels=percent) +\n",
    "    scale_colour_manual(values=c('blue', 'orange'))"
   ]
  },
  {
   "cell_type": "markdown",
   "metadata": {
    "pycharm": {}
   },
   "source": [
    "We see that this plot reproduces the following prediction from our paper (with Pure Bandit and Pure Organic only):\n",
    "\n",
    "“Pure Organic” behavior is determined by the amount of noise in $\\sigma$ and is unaffected by the number of bandit events (this is not strictly true in the simulation and a small increase is evident on pure organic, as the user also provides an organic signal). If $\\sigma$ is sufficiently small that the actions are correctly ordered it will perform well, in contrast if it is large it will perform poorly. The performance does not change as the number of bandit events increase as these are not used. In contrast the “Pure Bandit” algorithm is unable to make predictions without large numbers of bandit events. It performs poorly when this data is scarce and well when it is plentiful. \n",
    "\n",
    "<img src=\"images/section3_n_bandit_events.png\" alt=\"Drawing\" style=\"width: 650px;\"/>"
   ]
  },
  {
   "cell_type": "code",
   "execution_count": null,
   "metadata": {},
   "outputs": [],
   "source": []
  }
 ],
 "metadata": {
  "kernelspec": {
   "display_name": "Python 3",
   "language": "python",
   "name": "python3"
  },
  "language_info": {
   "codemirror_mode": {
    "name": "ipython",
    "version": 3
   },
   "file_extension": ".py",
   "mimetype": "text/x-python",
   "name": "python",
   "nbconvert_exporter": "python",
   "pygments_lexer": "ipython3",
   "version": "3.6.3"
  }
 },
 "nbformat": 4,
 "nbformat_minor": 2
}
