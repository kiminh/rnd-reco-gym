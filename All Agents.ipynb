{
 "cells": [
  {
   "cell_type": "markdown",
   "metadata": {},
   "source": [
    "## Comparing Agents List:\n",
    "\n",
    "###### 1. Single Action Agent\n",
    "Always returns the same action / product id.\n",
    "\n",
    "###### 2. Random Action Agent\n",
    "The Agent returns the random action from all of product id's range.\n",
    "\n",
    "###### 3. Organic Product Count Agent\n",
    "The Agent that selects an action based on the most frequently viewed Product.\n",
    "\n",
    "###### 4. Organic Per User Count Agent\n",
    "The Agent that counts organic views of products per a user and selects an action for the most frequently shown product.\n",
    "\n",
    "###### 5. Define Organic MF Agent\n",
    "The Agent that selects an action from the model that performs Organic Events matrix factorisation.\n",
    "\n",
    "###### 6. Bandit Click Count Agent\n",
    "The Agent that selects an Action for the most frequently clicked bandit action before.\n",
    "\n",
    "###### 7. Bandit MF Agent - used Matrix Factorization learning model\n",
    "The Agent chooses maximum logit (logistic regression) from all possible actions.\n",
    "\n",
    "###### 8. Likelihood Agent\n",
    "Act method returns an action based on current observation and past history."
   ]
  },
  {
   "cell_type": "markdown",
   "metadata": {},
   "source": [
    "## Environment Setup"
   ]
  },
  {
   "cell_type": "code",
   "execution_count": null,
   "metadata": {
    "pycharm": {
     "is_executing": true
    }
   },
   "outputs": [],
   "source": [
    "from copy import deepcopy\n",
    "\n",
    "import recogym\n",
    "from my_agent_utils import add_agent_id, combine_stat\n",
    "from my_entries.likehood_agent import LikelihoodAgent, CountFeatureProvider\n",
    "from single_action_agent import SingleActionAgent\n",
    "%matplotlib inline\n",
    "import gym\n",
    "import matplotlib.pyplot as plt\n",
    "\n",
    "from recogym import env_1_args, Configuration\n",
    "from recogym.agents import OrganicUserEventCounterAgent, organic_user_count_args, OrganicCount, organic_count_args, \\\n",
    "    OrganicMFSquare, organic_mf_square_args, BanditCount, bandit_count_args, BanditMFSquare, bandit_mf_square_args\n",
    "from recogym.agents import RandomAgent, random_args\n",
    "from recogym.evaluate_agent import plot_verify_agents, verify_agents\n",
    "\n",
    "# Set style for pretty plots\n",
    "plt.style.use('ggplot')\n",
    "\n",
    "products = 40\n",
    "\n",
    "offline_users = 16000\n",
    "online_users = 200\n",
    "\n",
    "# You can overwrite environment arguments here:\n",
    "\n",
    "env_1_args['random_seed'] = 42\n",
    "env_1_args['num_products']= products\n",
    "env_1_args['phi_var']=0.0\n",
    "env_1_args['number_of_flips']=1\n",
    "\n",
    "# env_1_args['sigma_mu_organic'] = 0.0\n",
    "# env_1_args['sigma_omega']=0\n",
    "# env_1_args['normalize_beta']=True\n",
    "\n",
    "# Initialize the gym for the first time by calling .make() and .init_gym()\n",
    "\n",
    "#---------------------------------------------\n",
    "%config InlineBackend.figure_format = 'retina'\n",
    "plt.rcParams['figure.figsize'] = [6, 3]\n",
    "\n",
    "env_1_args['number_of_flips'] = 0\n",
    "env_1_args['sigma_mu_organic'] = 0.0\n",
    "env_1_args['sigma_omega'] = 1\n",
    "env_1_args['random_seed'] = 42\n",
    "env_1_args['num_products'] = products\n",
    "env_1_args['K'] = 5\n",
    "env_1_args['number_of_flips'] = 5\n",
    "#---------------------------------------------\n",
    "\n",
    "env = gym.make('reco-gym-v1')\n",
    "env.init_gym(env_1_args)\n",
    "\n",
    "env.reset()\n"
   ]
  },
  {
   "cell_type": "markdown",
   "metadata": {},
   "source": [
    "1. Define Single Action Agent"
   ]
  },
  {
   "cell_type": "code",
   "execution_count": null,
   "metadata": {
    "pycharm": {
     "name": "#%%\n"
    }
   },
   "outputs": [],
   "source": [
    "single_action_agent = SingleActionAgent(Configuration({**env_1_args,}))"
   ]
  },
  {
   "cell_type": "markdown",
   "metadata": {},
   "source": [
    "2. Define Random Action Agent"
   ]
  },
  {
   "cell_type": "code",
   "execution_count": null,
   "metadata": {
    "pycharm": {
     "name": "#%%\n"
    }
   },
   "outputs": [],
   "source": [
    "random_agent = RandomAgent(Configuration({**random_args,**env_1_args,}))"
   ]
  },
  {
   "cell_type": "markdown",
   "metadata": {},
   "source": [
    "3. Define Organic Product Count Agent"
   ]
  },
  {
   "cell_type": "code",
   "execution_count": null,
   "metadata": {
    "pycharm": {
     "name": "#%%\n"
    }
   },
   "outputs": [],
   "source": [
    "organic_count_agent = OrganicCount(Configuration({**organic_count_args,**env_1_args,}))"
   ]
  },
  {
   "cell_type": "markdown",
   "metadata": {},
   "source": [
    "4. Define Organic Per User Count Agent"
   ]
  },
  {
   "cell_type": "code",
   "execution_count": null,
   "metadata": {},
   "outputs": [],
   "source": [
    "organic_user_counter_agent = OrganicUserEventCounterAgent(Configuration({**organic_user_count_args, **env_1_args, 'select_randomly': True,}))"
   ]
  },
  {
   "cell_type": "markdown",
   "metadata": {},
   "source": [
    "5. Define Organic MF Agent"
   ]
  },
  {
   "cell_type": "code",
   "execution_count": null,
   "metadata": {
    "pycharm": {
     "name": "#%%\n"
    }
   },
   "outputs": [],
   "source": [
    "organic_mf_agent = OrganicMFSquare(Configuration({**organic_mf_square_args, **env_1_args, 'select_randomly': True,}))"
   ]
  },
  {
   "cell_type": "markdown",
   "metadata": {},
   "source": [
    "6. Define Bandit Click Count Agent"
   ]
  },
  {
   "cell_type": "code",
   "execution_count": null,
   "metadata": {
    "pycharm": {
     "name": "#%%\n"
    }
   },
   "outputs": [],
   "source": [
    "bandit_count_agent = BanditCount(Configuration({**bandit_count_args,**env_1_args,}))"
   ]
  },
  {
   "cell_type": "markdown",
   "metadata": {},
   "source": [
    "7. Define Bandit MF Agent"
   ]
  },
  {
   "cell_type": "code",
   "execution_count": null,
   "metadata": {
    "pycharm": {
     "name": "#%%\n"
    }
   },
   "outputs": [],
   "source": [
    "bandit_mf_square_agent = BanditMFSquare(Configuration({ **bandit_mf_square_args, **env_1_args,}))"
   ]
  },
  {
   "cell_type": "markdown",
   "metadata": {},
   "source": [
    "8. Define Likelihood Agent"
   ]
  },
  {
   "cell_type": "code",
   "execution_count": null,
   "metadata": {
    "pycharm": {
     "name": "#%%\n"
    }
   },
   "outputs": [],
   "source": [
    "from scipy.stats import beta\n",
    "import pandas as pd\n",
    "\n",
    "config = Configuration(env_1_args)\n",
    "\n",
    "count_product_views_feature_provider = CountFeatureProvider(config)\n",
    "\n",
    "likelihood_agent = LikelihoodAgent(count_product_views_feature_provider)\n",
    "\n",
    "lh_data = deepcopy(env).generate_logs(offline_users)\n",
    "\n",
    "likelihood_agent.train(lh_data)\n",
    "\n",
    "bandits = lh_data[lh_data['z'] == 'bandit']\n",
    "successes = bandits[bandits['c'] == 1].shape[0]\n",
    "failures = bandits[bandits['c'] == 0].shape[0]\n",
    "\n",
    "lh_agent_res = add_agent_id(\n",
    "    'Likelihood',\n",
    "    beta.ppf(0.025, successes + 1, failures + 1),\n",
    "    beta.ppf(0.500, successes + 1, failures + 1),\n",
    "    beta.ppf(0.975, successes + 1, failures + 1))\n"
   ]
  },
  {
   "cell_type": "code",
   "execution_count": null,
   "metadata": {
    "pycharm": {
     "name": "#%%\n"
    }
   },
   "outputs": [],
   "source": [
    "pd.DataFrame().from_dict(lh_agent_res)"
   ]
  },
  {
   "cell_type": "markdown",
   "metadata": {
    "pycharm": {
     "name": "#%% md\n"
    }
   },
   "source": [
    "## A/B-Test Evaluation"
   ]
  },
  {
   "cell_type": "code",
   "execution_count": null,
   "metadata": {
    "pycharm": {
     "name": "#%%\n"
    }
   },
   "outputs": [],
   "source": [
    "result_bandit_mf = recogym.test_agent(deepcopy(env), deepcopy(bandit_mf_square_agent), offline_users, online_users)\n",
    "result_bandit_mf_id = add_agent_id('Bandit MF Agent', *result_bandit_mf)"
   ]
  },
  {
   "cell_type": "code",
   "execution_count": null,
   "metadata": {
    "pycharm": {
     "name": "#%%\n"
    }
   },
   "outputs": [],
   "source": [
    "result_single = recogym.test_agent(deepcopy(env), deepcopy(single_action_agent), offline_users, online_users)\n",
    "result_single_id = add_agent_id('Single Action Agent', *result_single)"
   ]
  },
  {
   "cell_type": "code",
   "execution_count": null,
   "metadata": {
    "pycharm": {
     "name": "#%%\n"
    }
   },
   "outputs": [],
   "source": [
    "result_random = recogym.test_agent(deepcopy(env), deepcopy(random_agent), offline_users, online_users)\n",
    "result_random_id = add_agent_id('Random Agent', *result_random)"
   ]
  },
  {
   "cell_type": "code",
   "execution_count": null,
   "metadata": {
    "pycharm": {
     "name": "#%%\n"
    }
   },
   "outputs": [],
   "source": [
    "result_organic_count = recogym.test_agent(deepcopy(env), deepcopy(organic_count_agent), offline_users, online_users)\n",
    "result_organic_count_id = add_agent_id('Organic Count Agent', *result_organic_count)"
   ]
  },
  {
   "cell_type": "code",
   "execution_count": null,
   "metadata": {
    "pycharm": {
     "name": "#%%\n"
    }
   },
   "outputs": [],
   "source": [
    "result_organic_user_counter = recogym.test_agent(deepcopy(env), deepcopy(organic_user_counter_agent), offline_users, online_users)\n",
    "result_organic_user_counter_id = add_agent_id('Organic Count per User Agent', *result_organic_user_counter)"
   ]
  },
  {
   "cell_type": "code",
   "execution_count": null,
   "metadata": {
    "pycharm": {
     "name": "#%%\n"
    }
   },
   "outputs": [],
   "source": [
    "result_organic_mf = recogym.test_agent(deepcopy(env), deepcopy(organic_mf_agent), offline_users, online_users)\n",
    "result_organic_mf_id = add_agent_id('Organic MF Agent', *result_organic_mf)"
   ]
  },
  {
   "cell_type": "code",
   "execution_count": null,
   "metadata": {
    "pycharm": {
     "name": "#%%\n"
    }
   },
   "outputs": [],
   "source": [
    "result_bandit_count = recogym.test_agent(deepcopy(env), deepcopy(bandit_count_agent), offline_users, online_users)\n",
    "result_bandit_count_id = add_agent_id('Bandit Count Agent', *result_bandit_count)"
   ]
  },
  {
   "cell_type": "code",
   "execution_count": null,
   "metadata": {
    "pycharm": {
     "name": "#%%\n"
    }
   },
   "outputs": [],
   "source": [
    "result_likelihood_id = verify_agents(\n",
    "    env,\n",
    "    number_of_users=online_users,\n",
    "    agents={\n",
    "        'Likelihood LogReg': deepcopy(likelihood_agent),\n",
    "    }\n",
    ")\n"
   ]
  },
  {
   "cell_type": "code",
   "execution_count": null,
   "metadata": {
    "pycharm": {
     "name": "#%%\n"
    }
   },
   "outputs": [],
   "source": [
    "comb_result = combine_stat([\n",
    "                            result_single_id,\n",
    "                            result_random_id,\n",
    "                            result_organic_count_id,\n",
    "                            result_organic_user_counter_id,\n",
    "                            result_organic_mf_id,\n",
    "                            result_bandit_mf_id,\n",
    "                            result_likelihood_id\n",
    "                            ])\n"
   ]
  },
  {
   "cell_type": "code",
   "execution_count": null,
   "metadata": {
    "pycharm": {
     "name": "#%%\n"
    }
   },
   "outputs": [],
   "source": [
    "comb_result"
   ]
  },
  {
   "cell_type": "code",
   "execution_count": null,
   "metadata": {
    "pycharm": {
     "name": "#%%\n"
    }
   },
   "outputs": [],
   "source": [
    "fig = plot_verify_agents(comb_result)\n",
    "plt.ylabel('CTR')\n",
    "plt.show()\n",
    "\n",
    "\n",
    "\n",
    "\n"
   ]
  }
 ],
 "metadata": {
  "kernelspec": {
   "display_name": "Python 3",
   "language": "python",
   "name": "python3"
  },
  "language_info": {
   "codemirror_mode": {
    "name": "ipython",
    "version": 3
   },
   "file_extension": ".py",
   "mimetype": "text/x-python",
   "name": "python",
   "nbconvert_exporter": "python",
   "pygments_lexer": "ipython3",
   "version": "3.7.7"
  }
 },
 "nbformat": 4,
 "nbformat_minor": 2
}