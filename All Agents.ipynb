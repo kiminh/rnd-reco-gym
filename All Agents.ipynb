{
 "cells": [
  {
   "cell_type": "markdown",
   "metadata": {},
   "source": [
    "## Comparing Agents List:\n",
    "\n",
    "###### 1. Single Action Agent\n",
    "Always returns the same action / product id.\n",
    "\n",
    "###### 2. Random Action Agent\n",
    "The Agent returns the random action from all of product id's range.\n",
    "\n",
    "###### 3. Organic Product Count Agent\n",
    "The Agent that selects an action based on the most frequently viewed Product.\n",
    "\n",
    "###### 4. Organic Per User Count Agent\n",
    "The Agent that counts organic views of products per a user and selects an action for the most frequently shown product.\n",
    "\n",
    "###### 5. Organic MF Agent\n",
    "The Agent that selects an action from the model that performs Organic Events matrix factorisation.\n",
    "\n",
    "###### 6. Bandit Click Count Agent\n",
    "The Agent that selects an Action for the most frequently clicked bandit action before.\n",
    "\n",
    "###### 7. Bandit MF Agent - used Matrix Factorization learning model\n",
    "The Agent chooses maximum logit (logistic regression) from all possible actions.\n",
    "\n",
    "###### 8. Likelihood Agent\n",
    " - train:\n",
    "    1. take offline logs where bandit click is random\n",
    "            t   \tu \tz           v   a    \tc \t    ps   \tps-a\n",
    "        0 \t0.0 \t0 \torganic \t6 \t<NA> \tNaN \tNaN \tNone\n",
    "        1 \t1.0 \t0 \torganic \t7 \t<NA> \tNaN \tNaN \tNone\n",
    "        2 \t2.0 \t0 \torganic \t15 \t<NA> \tNaN \tNaN \tNone\n",
    "        3 \t3.0 \t0 \torganic \t2 \t<NA> \tNaN \tNaN \tNone\n",
    "        4 \t4.0 \t0 \tbandit \t   <NA> 38 \t    1.0 \t0.025 \t()\n",
    "        5 \t5.0 \t0 \tbandit \t   <NA> 34 \t    0.0 \t0.025\n",
    "\n",
    "    2. build_train_data() -> run f_provider.observe -> user_states, actions, rewards, proba_actions\n",
    "\n",
    "    3. create features matrix - a matrix of views by products\n",
    "    \n",
    "    4. creates LogisticRegression model\n",
    "    \n",
    "    5. do model.fit (features, rewards)\n",
    "\n",
    " - act:\n",
    "    1. do score_products -> model.predict_proba()\n",
    "    2. choose max probability\n",
    "\n",
    "\n",
    "Act method returns an action based on current observation and past history.\n"
   ]
  },
  {
   "cell_type": "markdown",
   "metadata": {},
   "source": [
    "## Environment Setup"
   ]
  },
  {
   "cell_type": "code",
   "execution_count": 1,
   "metadata": {
    "pycharm": {
     "is_executing": true
    }
   },
   "outputs": [
    {
     "name": "stderr",
     "output_type": "stream",
     "text": [
      "/workspace/ML/reco-gym/recogym/envs/abstract.py:54: FutureWarning: Passing a negative integer is deprecated in version 1.0 and will not be supported in future version. Instead, use None to not limit the column width.\n",
      "  pd.set_option('display.max_colwidth', -1)\n"
     ]
    }
   ],
   "source": [
    "from copy import deepcopy\n",
    "\n",
    "import recogym\n",
    "from my_agent_utils import add_agent_id, combine_stat\n",
    "from my_entries.likehood_agent import LikelihoodAgent, CountFeatureProvider\n",
    "from single_action_agent import SingleActionAgent\n",
    "%matplotlib inline\n",
    "import gym\n",
    "import matplotlib.pyplot as plt\n",
    "\n",
    "from recogym import env_1_args, Configuration\n",
    "from recogym.agents import OrganicUserEventCounterAgent, organic_user_count_args, OrganicCount, organic_count_args, \\\n",
    "    OrganicMFSquare, organic_mf_square_args, BanditCount, bandit_count_args, BanditMFSquare, bandit_mf_square_args\n",
    "from recogym.agents import RandomAgent, random_args\n",
    "from recogym.evaluate_agent import plot_verify_agents, verify_agents\n",
    "\n",
    "# Set style for pretty plots\n",
    "plt.style.use('ggplot')\n",
    "\n",
    "products = 40\n",
    "\n",
    "offline_users = 1000\n",
    "online_users = 200\n",
    "\n",
    "# You can overwrite environment arguments here:\n",
    "\n",
    "env_1_args['phi_var']=0.0\n",
    "\n",
    "# env_1_args['sigma_mu_organic'] = 0.0\n",
    "# env_1_args['sigma_omega']=0\n",
    "# env_1_args['normalize_beta']=True\n",
    "\n",
    "# Initialize the gym for the first time by calling .make() and .init_gym()\n",
    "\n",
    "#---------------------------------------------\n",
    "%config InlineBackend.figure_format = 'retina'\n",
    "plt.rcParams['figure.figsize'] = [6, 3]\n",
    "\n",
    "env_1_args['number_of_flips'] = 0\n",
    "env_1_args['sigma_mu_organic'] = 0.0\n",
    "env_1_args['sigma_omega'] = 1\n",
    "env_1_args['random_seed'] = 42\n",
    "env_1_args['num_products'] = products\n",
    "env_1_args['K'] = 5\n",
    "env_1_args['number_of_flips'] = 5\n",
    "#---------------------------------------------\n",
    "\n",
    "env = gym.make('reco-gym-v1')\n",
    "env.init_gym(env_1_args)\n",
    "\n",
    "env.reset()\n"
   ]
  },
  {
   "cell_type": "markdown",
   "metadata": {},
   "source": [
    "1. Define Single Action Agent"
   ]
  },
  {
   "cell_type": "code",
   "execution_count": 2,
   "metadata": {
    "pycharm": {
     "name": "#%%\n"
    }
   },
   "outputs": [
    {
     "name": "stdout",
     "output_type": "stream",
     "text": [
      "SingleActionAgent %%%% num_products: 40\n"
     ]
    }
   ],
   "source": [
    "single_action_agent = SingleActionAgent(Configuration({**env_1_args,}))"
   ]
  },
  {
   "cell_type": "markdown",
   "metadata": {},
   "source": [
    "2. Define Random Action Agent"
   ]
  },
  {
   "cell_type": "code",
   "execution_count": 3,
   "metadata": {
    "pycharm": {
     "name": "#%%\n"
    }
   },
   "outputs": [
    {
     "name": "stdout",
     "output_type": "stream",
     "text": [
      "RandomAgent %%%% num_products: 40\n"
     ]
    }
   ],
   "source": [
    "random_agent = RandomAgent(Configuration({**random_args,**env_1_args,}))"
   ]
  },
  {
   "cell_type": "markdown",
   "metadata": {},
   "source": [
    "3. Define Organic Product Count Agent"
   ]
  },
  {
   "cell_type": "code",
   "execution_count": 4,
   "metadata": {
    "pycharm": {
     "name": "#%%\n"
    }
   },
   "outputs": [],
   "source": [
    "organic_count_agent = OrganicCount(Configuration({**organic_count_args,**env_1_args,}))"
   ]
  },
  {
   "cell_type": "markdown",
   "metadata": {},
   "source": [
    "4. Define Organic Per User Count Agent"
   ]
  },
  {
   "cell_type": "code",
   "execution_count": 5,
   "metadata": {},
   "outputs": [],
   "source": [
    "organic_user_counter_agent = OrganicUserEventCounterAgent(Configuration({**organic_user_count_args, **env_1_args, 'select_randomly': True,}))"
   ]
  },
  {
   "cell_type": "markdown",
   "metadata": {},
   "source": [
    "5. Define Organic MF Agent"
   ]
  },
  {
   "cell_type": "code",
   "execution_count": 6,
   "metadata": {
    "pycharm": {
     "name": "#%%\n"
    }
   },
   "outputs": [],
   "source": [
    "organic_mf_agent = OrganicMFSquare(Configuration({**organic_mf_square_args, **env_1_args, 'select_randomly': True,}))"
   ]
  },
  {
   "cell_type": "markdown",
   "metadata": {},
   "source": [
    "6. Define Bandit Click Count Agent"
   ]
  },
  {
   "cell_type": "code",
   "execution_count": 7,
   "metadata": {
    "pycharm": {
     "name": "#%%\n"
    }
   },
   "outputs": [
    {
     "name": "stdout",
     "output_type": "stream",
     "text": [
      "BanditCount %%%% num_products: 40\n"
     ]
    }
   ],
   "source": [
    "bandit_count_agent = BanditCount(Configuration({**bandit_count_args,**env_1_args,}))"
   ]
  },
  {
   "cell_type": "markdown",
   "metadata": {},
   "source": [
    "7. Define Bandit MF Agent"
   ]
  },
  {
   "cell_type": "code",
   "execution_count": 8,
   "metadata": {
    "pycharm": {
     "name": "#%%\n"
    }
   },
   "outputs": [],
   "source": [
    "bandit_mf_square_agent = BanditMFSquare(Configuration({ **bandit_mf_square_args, **env_1_args,}))"
   ]
  },
  {
   "cell_type": "markdown",
   "metadata": {},
   "source": [
    "8. Define Likelihood Agent"
   ]
  },
  {
   "cell_type": "code",
   "execution_count": 9,
   "metadata": {
    "pycharm": {
     "name": "#%%\n"
    }
   },
   "outputs": [
    {
     "name": "stderr",
     "output_type": "stream",
     "text": [
      "Organic Users: 0it [00:00, ?it/s]\n",
      "Users:   0%|          | 0/1000 [00:00<?, ?it/s]"
     ]
    },
    {
     "name": "stdout",
     "output_type": "stream",
     "text": [
      "# ------------------------------------------------------------------------------------\n",
      "#  GENERATE LOGS FOR AGENT None\n",
      "# ------------------------------------------------------------------------------------\n"
     ]
    },
    {
     "name": "stderr",
     "output_type": "stream",
     "text": [
      "Users: 100%|██████████| 1000/1000 [00:17<00:00, 56.84it/s]\n"
     ]
    },
    {
     "name": "stdout",
     "output_type": "stream",
     "text": [
      "\n",
      "LikelihoodAgent train() num_products 40\n"
     ]
    }
   ],
   "source": [
    "from scipy.stats import beta\n",
    "import pandas as pd\n",
    "\n",
    "config = Configuration(env_1_args)\n",
    "\n",
    "count_product_views_feature_provider = CountFeatureProvider(config)  # <----- CountFeatureProvider\n",
    "\n",
    "likelihood_agent = LikelihoodAgent(count_product_views_feature_provider)\n",
    "\n",
    "lh_log_data = deepcopy(env).generate_logs(offline_users)\n",
    "\n",
    "likelihood_agent.train(lh_log_data)\n",
    "\n",
    "bandits = lh_log_data[lh_log_data['z'] == 'bandit']\n",
    "successes = bandits[bandits['c'] == 1].shape[0]\n",
    "failures = bandits[bandits['c'] == 0].shape[0]\n",
    "\n",
    "lh_agent_res = add_agent_id(\n",
    "    'Likelihood',\n",
    "    beta.ppf(0.025, successes + 1, failures + 1),\n",
    "    beta.ppf(0.500, successes + 1, failures + 1),\n",
    "    beta.ppf(0.975, successes + 1, failures + 1))\n"
   ]
  },
  {
   "cell_type": "code",
   "execution_count": 10,
   "metadata": {
    "pycharm": {
     "name": "#%%\n"
    }
   },
   "outputs": [
    {
     "data": {
      "text/html": [
       "<div>\n",
       "<style scoped>\n",
       "    .dataframe tbody tr th:only-of-type {\n",
       "        vertical-align: middle;\n",
       "    }\n",
       "\n",
       "    .dataframe tbody tr th {\n",
       "        vertical-align: top;\n",
       "    }\n",
       "\n",
       "    .dataframe thead th {\n",
       "        text-align: right;\n",
       "    }\n",
       "</style>\n",
       "<table border=\"1\" class=\"dataframe\">\n",
       "  <thead>\n",
       "    <tr style=\"text-align: right;\">\n",
       "      <th></th>\n",
       "      <th>Agent</th>\n",
       "      <th>0.025</th>\n",
       "      <th>0.500</th>\n",
       "      <th>0.975</th>\n",
       "    </tr>\n",
       "  </thead>\n",
       "  <tbody>\n",
       "    <tr>\n",
       "      <th>0</th>\n",
       "      <td>Likelihood</td>\n",
       "      <td>0.01115</td>\n",
       "      <td>0.011884</td>\n",
       "      <td>0.012649</td>\n",
       "    </tr>\n",
       "  </tbody>\n",
       "</table>\n",
       "</div>"
      ],
      "text/plain": [
       "        Agent    0.025     0.500     0.975\n",
       "0  Likelihood  0.01115  0.011884  0.012649"
      ]
     },
     "execution_count": 10,
     "metadata": {},
     "output_type": "execute_result"
    }
   ],
   "source": [
    "pd.DataFrame().from_dict(lh_agent_res)"
   ]
  },
  {
   "cell_type": "markdown",
   "metadata": {
    "pycharm": {
     "name": "#%% md\n"
    }
   },
   "source": [
    "## A/B-Test Evaluation\n"
   ]
  },
  {
   "cell_type": "code",
   "execution_count": 11,
   "metadata": {
    "pycharm": {
     "name": "#%%\n"
    }
   },
   "outputs": [
    {
     "name": "stderr",
     "output_type": "stream",
     "text": [
      "Organic Users: 0it [00:00, ?it/s]\n",
      "Users:   0%|          | 0/200 [00:00<?, ?it/s]/workspace/ML/reco-gym/single_action_agent.py:40: RuntimeWarning: invalid value encountered in true_divide\n",
      "  prob = self.organic_views / sum(self.organic_views)\n",
      "Users:   2%|▏         | 4/200 [00:00<00:05, 38.98it/s]"
     ]
    },
    {
     "name": "stdout",
     "output_type": "stream",
     "text": [
      "# ------------------------------------------------------------------------------------\n",
      "#  GENERATE LOGS FOR AGENT <single_action_agent.SingleActionAgent object at 0x13041abd0>\n",
      "# ------------------------------------------------------------------------------------\n"
     ]
    },
    {
     "name": "stderr",
     "output_type": "stream",
     "text": [
      "Users: 100%|██████████| 200/200 [00:03<00:00, 66.52it/s]\n",
      "Organic Users: 0it [00:00, ?it/s]\n",
      "Users:   4%|▍         | 8/200 [00:00<00:03, 58.78it/s]"
     ]
    },
    {
     "name": "stdout",
     "output_type": "stream",
     "text": [
      "# ------------------------------------------------------------------------------------\n",
      "#  GENERATE LOGS FOR AGENT <recogym.agents.random_agent.RandomAgent object at 0x130963bd0>\n",
      "# ------------------------------------------------------------------------------------\n"
     ]
    },
    {
     "name": "stderr",
     "output_type": "stream",
     "text": [
      "Users: 100%|██████████| 200/200 [00:02<00:00, 68.02it/s]\n",
      "Organic Users: 0it [00:00, ?it/s]\n",
      "Users:   4%|▍         | 8/200 [00:00<00:02, 68.02it/s]"
     ]
    },
    {
     "name": "stdout",
     "output_type": "stream",
     "text": [
      "# ------------------------------------------------------------------------------------\n",
      "#  GENERATE LOGS FOR AGENT <recogym.agents.organic_count.OrganicCount object at 0x1309782d0>\n",
      "# ------------------------------------------------------------------------------------\n"
     ]
    },
    {
     "name": "stderr",
     "output_type": "stream",
     "text": [
      "Users: 100%|██████████| 200/200 [00:03<00:00, 52.46it/s]\n",
      "Organic Users: 0it [00:00, ?it/s]\n",
      "Users:   2%|▏         | 4/200 [00:00<00:05, 33.92it/s]"
     ]
    },
    {
     "name": "stdout",
     "output_type": "stream",
     "text": [
      "# ------------------------------------------------------------------------------------\n",
      "#  GENERATE LOGS FOR AGENT <recogym.agents.organic_user_count.OrganicUserEventCounterAgent object at 0x130978ad0>\n",
      "# ------------------------------------------------------------------------------------\n"
     ]
    },
    {
     "name": "stderr",
     "output_type": "stream",
     "text": [
      "Users: 100%|██████████| 200/200 [00:04<00:00, 41.53it/s]\n",
      "Organic Users: 0it [00:00, ?it/s]\n",
      "Users:   4%|▍         | 8/200 [00:00<00:03, 58.41it/s]"
     ]
    },
    {
     "name": "stdout",
     "output_type": "stream",
     "text": [
      "# ------------------------------------------------------------------------------------\n",
      "#  GENERATE LOGS FOR AGENT OrganicMFSquare(\n",
      "  (product_embedding): Embedding(40, 5)\n",
      "  (output_layer): Linear(in_features=5, out_features=40, bias=True)\n",
      ")\n",
      "# ------------------------------------------------------------------------------------\n"
     ]
    },
    {
     "name": "stderr",
     "output_type": "stream",
     "text": [
      "Users: 100%|██████████| 200/200 [00:03<00:00, 62.68it/s]\n",
      "Organic Users: 0it [00:00, ?it/s]\n",
      "Users:   2%|▏         | 3/200 [00:00<00:06, 29.36it/s]"
     ]
    },
    {
     "name": "stdout",
     "output_type": "stream",
     "text": [
      "# ------------------------------------------------------------------------------------\n",
      "#  GENERATE LOGS FOR AGENT <recogym.agents.bandit_count.BanditCount object at 0x13097ff50>\n",
      "# ------------------------------------------------------------------------------------\n"
     ]
    },
    {
     "name": "stderr",
     "output_type": "stream",
     "text": [
      "Users: 100%|██████████| 200/200 [00:03<00:00, 65.96it/s]\n",
      "Organic Users: 0it [00:00, ?it/s]\n",
      "Users:   2%|▏         | 3/200 [00:00<00:06, 28.22it/s]"
     ]
    },
    {
     "name": "stdout",
     "output_type": "stream",
     "text": [
      "# ------------------------------------------------------------------------------------\n",
      "#  GENERATE LOGS FOR AGENT BanditMFSquare(\n",
      "  (product_embedding): Embedding(40, 5)\n",
      "  (user_embedding): Embedding(40, 5)\n",
      ")\n",
      "# ------------------------------------------------------------------------------------\n"
     ]
    },
    {
     "name": "stderr",
     "output_type": "stream",
     "text": [
      "Users: 100%|██████████| 200/200 [00:04<00:00, 42.66it/s]\n",
      "Organic Users: 0it [00:00, ?it/s]\n",
      "Users:   2%|▏         | 3/200 [00:00<00:10, 17.95it/s]"
     ]
    },
    {
     "name": "stdout",
     "output_type": "stream",
     "text": [
      "# ------------------------------------------------------------------------------------\n",
      "#  GENERATE LOGS FOR AGENT <my_entries.likehood_agent.LikelihoodAgent object at 0x1308c16d0>\n",
      "# ------------------------------------------------------------------------------------\n"
     ]
    },
    {
     "name": "stderr",
     "output_type": "stream",
     "text": [
      "Users: 100%|██████████| 200/200 [00:08<00:00, 24.70it/s]\n"
     ]
    }
   ],
   "source": [
    "comb_result = verify_agents(\n",
    "    env,\n",
    "    number_of_users=online_users,\n",
    "    agents={\n",
    "        '1. Single Action Agent': single_action_agent,\n",
    "        '2. Random Agent': random_agent,\n",
    "        '3. Organic Count Agent': organic_count_agent,\n",
    "        '4. Organic Count per User Agent': organic_user_counter_agent,\n",
    "        '5. Organic MF Agent': organic_mf_agent,\n",
    "        '6. Bandit Count Agent': bandit_count_agent,\n",
    "        '7. Bandit MF Agent': bandit_mf_square_agent,\n",
    "        '8. Likelihood LogReg': likelihood_agent,\n",
    "    }\n",
    ")"
   ]
  },
  {
   "cell_type": "code",
   "execution_count": 12,
   "metadata": {
    "pycharm": {
     "name": "#%%\n"
    }
   },
   "outputs": [
    {
     "data": {
      "image/png": "[encoded data removed]",
      "text/plain": [
       "<Figure size 432x216 with 1 Axes>"
      ]
     },
     "metadata": {
      "image/png": {
       "height": 365,
       "width": 401
      }
     },
     "output_type": "display_data"
    }
   ],
   "source": [
    "fig = plot_verify_agents(comb_result)\n",
    "plt.ylabel('CTR')\n",
    "plt.show()\n",
    "\n",
    "\n",
    "\n",
    "\n"
   ]
  }
 ],
 "metadata": {
  "kernelspec": {
   "display_name": "Python 3",
   "language": "python",
   "name": "python3"
  },
  "language_info": {
   "codemirror_mode": {
    "name": "ipython",
    "version": 3
   },
   "file_extension": ".py",
   "mimetype": "text/x-python",
   "name": "python",
   "nbconvert_exporter": "python",
   "pygments_lexer": "ipython3",
   "version": "3.7.7"
  }
 },
 "nbformat": 4,
 "nbformat_minor": 2
}