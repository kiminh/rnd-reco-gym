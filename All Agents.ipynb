{
 "cells": [
  {
   "cell_type": "markdown",
   "metadata": {},
   "source": [
    "Agents List:\n",
    "\n",
    "+ Single action Agent\n",
    "+ Simple random Agent\n",
    "+ Organic count Agent\n",
    "+ Organic user count Agent\n",
    "- Logistic regression polynomial Agent\n",
    "- Greedy bandit Agent\n",
    "- Greedy organic Agent\n",
    "- CF SVD Agent\n",
    "- Organic MF agent\n",
    "+ Bandit MF Agent\n",
    "- Bandit Regression Agent\n",
    "- Neural network Ips Agent"
   ]
  },
  {
   "cell_type": "markdown",
   "metadata": {},
   "source": [
    "## Environment Setup"
   ]
  },
  {
   "cell_type": "code",
   "execution_count": 1,
   "metadata": {
    "pycharm": {
     "is_executing": true
    }
   },
   "outputs": [],
   "source": [
    "from copy import deepcopy\n",
    "from recogym.agents.single_action_agent import SingleActionAgent\n",
    "%matplotlib inline\n",
    "import gym\n",
    "import matplotlib.pyplot as plt\n",
    "\n",
    "from recogym import env_1_args, Configuration, agents\n",
    "from recogym import verify_agents\n",
    "from recogym.agents import OrganicUserEventCounterAgent, organic_user_count_args, OrganicCount, organic_count_args, \\\n",
    "    OrganicMFSquare, organic_mf_square_args, BanditCount, bandit_count_args, BanditMFSquare, bandit_mf_square_args, \\\n",
    "    LogregPolyAgent, logreg_poly_args, EpsilonGreedy, epsilon_greedy_args\n",
    "from recogym.agents import RandomAgent, random_args\n",
    "from recogym.evaluate_agent import plot_verify_agents, build_agents\n",
    "\n",
    "# Set style for pretty plots\n",
    "plt.style.use('ggplot')\n",
    "\n",
    "Products = 100\n",
    "Users = 100\n",
    "\n",
    "# You can overwrite environment arguments here:\n",
    "env_1_args['random_seed'] = 42\n",
    "env_1_args['num_products']= Products\n",
    "env_1_args['phi_var']=0.0\n",
    "env_1_args['number_of_flips']=8\n",
    "env_1_args['sigma_mu_organic'] = 0.0\n",
    "env_1_args['sigma_omega']=0\n",
    "#env_1_args['normalize_beta']=True\n",
    "\n",
    "# Initialize the gym for the first time by calling .make() and .init_gym()\n",
    "env = gym.make('reco-gym-v1')\n",
    "env.init_gym(env_1_args)\n",
    "\n",
    "env.reset()\n"
   ]
  },
  {
   "cell_type": "markdown",
   "metadata": {},
   "source": [
    "## Single Action Agent\n",
    "\n",
    "    Always returns the same action / product id."
   ]
  },
  {
   "cell_type": "code",
   "execution_count": 2,
   "metadata": {
    "pycharm": {
     "name": "#%%\n"
    }
   },
   "outputs": [
    {
     "name": "stdout",
     "output_type": "stream",
     "text": [
      "SingleActionAgent %%%% num_products: 100\n"
     ]
    }
   ],
   "source": [
    "single_action_agent = SingleActionAgent(Configuration({**env_1_args,'num_products': Products,}))"
   ]
  },
  {
   "cell_type": "markdown",
   "metadata": {},
   "source": [
    "## Random Action Agent"
   ]
  },
  {
   "cell_type": "code",
   "execution_count": 3,
   "metadata": {
    "pycharm": {
     "name": "#%%\n"
    }
   },
   "outputs": [
    {
     "name": "stdout",
     "output_type": "stream",
     "text": [
      "RandomAgent %%%% num_products: 10\n"
     ]
    }
   ],
   "source": [
    "random_agent = RandomAgent(Configuration({**env_1_args, **random_args,}))"
   ]
  },
  {
   "cell_type": "markdown",
   "metadata": {},
   "source": [
    "## Organic Event Counter Agent\n",
    "\n",
    "    The Agent that selects an Action based on the most frequently viewed Product."
   ]
  },
  {
   "cell_type": "code",
   "execution_count": 4,
   "metadata": {
    "pycharm": {
     "name": "#%%\n"
    }
   },
   "outputs": [],
   "source": [
    "organic_count_agent = OrganicCount(Configuration({**organic_count_args,**env_1_args,}))"
   ]
  },
  {
   "cell_type": "markdown",
   "metadata": {},
   "source": [
    "# Organic User Event Counter Agent\n",
    "\n",
    "    The Agent that counts Organic views of Products per a User and selects an Action for the most frequently shown Product."
   ]
  },
  {
   "cell_type": "code",
   "execution_count": 5,
   "metadata": {},
   "outputs": [],
   "source": [
    "organic_user_counter_agent = OrganicUserEventCounterAgent(Configuration({**organic_user_count_args, **env_1_args, 'select_randomly': True,}))"
   ]
  },
  {
   "cell_type": "markdown",
   "metadata": {},
   "source": [
    "## Organic MF Agent\n",
    "\n",
    "    The Agent that selects an Action from the model that performs Organic Events matrix factorisation."
   ]
  },
  {
   "cell_type": "code",
   "execution_count": 6,
   "metadata": {
    "pycharm": {
     "name": "#%%\n"
    }
   },
   "outputs": [],
   "source": [
    "organic_mf_agent = OrganicMFSquare(Configuration({**organic_mf_square_args, **env_1_args, 'select_randomly': True,}))"
   ]
  },
  {
   "cell_type": "markdown",
   "metadata": {},
   "source": [
    "## Bandit Count Agent\n",
    "\n",
    "    The Agent that selects an Action for the most frequently clicked Action before."
   ]
  },
  {
   "cell_type": "code",
   "execution_count": 7,
   "metadata": {
    "pycharm": {
     "name": "#%%\n"
    }
   },
   "outputs": [
    {
     "name": "stdout",
     "output_type": "stream",
     "text": [
      "BanditCount %%%% num_products: 100\n"
     ]
    }
   ],
   "source": [
    "bandit_count_bandit = BanditCount(Configuration({**bandit_count_args,**env_1_args,}))"
   ]
  },
  {
   "cell_type": "markdown",
   "metadata": {},
   "source": [
    "## Bandit MF Agent\n",
    "\n",
    "    #TODO: create description"
   ]
  },
  {
   "cell_type": "code",
   "execution_count": 8,
   "metadata": {
    "pycharm": {
     "name": "#%%\n"
    }
   },
   "outputs": [],
   "source": [
    "bandit_mf_square_agent = BanditMFSquare(Configuration({**bandit_mf_square_args,**env_1_args,}))"
   ]
  },
  {
   "cell_type": "markdown",
   "metadata": {},
   "source": [
    "## A/B-Test Evaluation"
   ]
  },
  {
   "cell_type": "code",
   "execution_count": 10,
   "metadata": {},
   "outputs": [
    {
     "name": "stderr",
     "output_type": "stream",
     "text": [
      "Organic Users: 0it [00:00, ?it/s]\n",
      "Users:   0%|          | 0/100 [00:00<?, ?it/s]/workspace/ML/reco-gym/recogym/agents/single_action_agent.py:36: RuntimeWarning: invalid value encountered in true_divide\n",
      "  prob = self.organic_views / sum(self.organic_views)\n",
      "/workspace/ML/reco-gym/recogym/agents/single_action_agent.py:36: RuntimeWarning: invalid value encountered in true_divide\n",
      "  prob = self.organic_views / sum(self.organic_views)\n",
      "Users: 100%|██████████| 100/100 [00:02<00:00, 40.66it/s]\n",
      "Organic Users: 0it [00:00, ?it/s]\n",
      "Users: 100%|██████████| 100/100 [00:01<00:00, 59.38it/s]\n",
      "Organic Users: 0it [00:00, ?it/s]\n",
      "Users: 100%|██████████| 100/100 [00:02<00:00, 45.42it/s]\n",
      "Organic Users: 0it [00:00, ?it/s]\n",
      "Users: 100%|██████████| 100/100 [00:01<00:00, 59.44it/s]\n",
      "Organic Users: 0it [00:00, ?it/s]\n",
      "Users: 100%|██████████| 100/100 [00:01<00:00, 56.82it/s]\n",
      "Organic Users: 0it [00:00, ?it/s]\n",
      "Users: 100%|██████████| 100/100 [00:01<00:00, 59.18it/s]\n",
      "Organic Users: 0it [00:00, ?it/s]\n",
      "Users: 100%|██████████| 100/100 [00:02<00:00, 36.84it/s]\n",
      "Organic Users: 0it [00:00, ?it/s]\n",
      "Users:   0%|          | 0/100 [00:00<?, ?it/s]\n",
      "Train Data: 0it [00:00, ?it/s]\u001B[A\n",
      "Users:   0%|          | 0/100 [00:00<?, ?it/s]\n"
     ]
    },
    {
     "ename": "ValueError",
     "evalue": "blocks must be 2-D",
     "output_type": "error",
     "traceback": [
      "\u001B[0;31m---------------------------------------------------------------------------\u001B[0m",
      "\u001B[0;31mValueError\u001B[0m                                Traceback (most recent call last)",
      "\u001B[0;32m<ipython-input-10-ffa0895e2ed4>\u001B[0m in \u001B[0;36m<module>\u001B[0;34m\u001B[0m\n\u001B[1;32m      7\u001B[0m     \u001B[0;34m'Bandit count'\u001B[0m\u001B[0;34m:\u001B[0m \u001B[0mbandit_count_bandit\u001B[0m\u001B[0;34m,\u001B[0m\u001B[0;34m\u001B[0m\u001B[0;34m\u001B[0m\u001B[0m\n\u001B[1;32m      8\u001B[0m     \u001B[0;34m'Bandit MF'\u001B[0m\u001B[0;34m:\u001B[0m \u001B[0mbandit_mf_square_agent\u001B[0m\u001B[0;34m,\u001B[0m\u001B[0;34m\u001B[0m\u001B[0;34m\u001B[0m\u001B[0m\n\u001B[0;32m----> 9\u001B[0;31m     \u001B[0;34m'LogregPoly'\u001B[0m\u001B[0;34m:\u001B[0m \u001B[0mlogreg_poly_agent\u001B[0m\u001B[0;34m\u001B[0m\u001B[0;34m\u001B[0m\u001B[0m\n\u001B[0m\u001B[1;32m     10\u001B[0m     })\n\u001B[1;32m     11\u001B[0m \u001B[0;34m\u001B[0m\u001B[0m\n",
      "\u001B[0;32m/workspace/ML/reco-gym/recogym/evaluate_agent.py\u001B[0m in \u001B[0;36mverify_agents\u001B[0;34m(env, number_of_users, agents)\u001B[0m\n\u001B[1;32m    740\u001B[0m     \u001B[0;32mfor\u001B[0m \u001B[0magent_id\u001B[0m \u001B[0;32min\u001B[0m \u001B[0magents\u001B[0m\u001B[0;34m:\u001B[0m\u001B[0;34m\u001B[0m\u001B[0;34m\u001B[0m\u001B[0m\n\u001B[1;32m    741\u001B[0m         \u001B[0mstat\u001B[0m\u001B[0;34m[\u001B[0m\u001B[0;34m'Agent'\u001B[0m\u001B[0;34m]\u001B[0m\u001B[0;34m.\u001B[0m\u001B[0mappend\u001B[0m\u001B[0;34m(\u001B[0m\u001B[0magent_id\u001B[0m\u001B[0;34m)\u001B[0m\u001B[0;34m\u001B[0m\u001B[0;34m\u001B[0m\u001B[0m\n\u001B[0;32m--> 742\u001B[0;31m         \u001B[0mdata\u001B[0m \u001B[0;34m=\u001B[0m \u001B[0mdeepcopy\u001B[0m\u001B[0;34m(\u001B[0m\u001B[0menv\u001B[0m\u001B[0;34m)\u001B[0m\u001B[0;34m.\u001B[0m\u001B[0mgenerate_logs\u001B[0m\u001B[0;34m(\u001B[0m\u001B[0mnumber_of_users\u001B[0m\u001B[0;34m,\u001B[0m \u001B[0magents\u001B[0m\u001B[0;34m[\u001B[0m\u001B[0magent_id\u001B[0m\u001B[0;34m]\u001B[0m\u001B[0;34m)\u001B[0m\u001B[0;34m\u001B[0m\u001B[0;34m\u001B[0m\u001B[0m\n\u001B[0m\u001B[1;32m    743\u001B[0m         \u001B[0mbandits\u001B[0m \u001B[0;34m=\u001B[0m \u001B[0mdata\u001B[0m\u001B[0;34m[\u001B[0m\u001B[0mdata\u001B[0m\u001B[0;34m[\u001B[0m\u001B[0;34m'z'\u001B[0m\u001B[0;34m]\u001B[0m \u001B[0;34m==\u001B[0m \u001B[0;34m'bandit'\u001B[0m\u001B[0;34m]\u001B[0m\u001B[0;34m\u001B[0m\u001B[0;34m\u001B[0m\u001B[0m\n\u001B[1;32m    744\u001B[0m         \u001B[0msuccesses\u001B[0m \u001B[0;34m=\u001B[0m \u001B[0mbandits\u001B[0m\u001B[0;34m[\u001B[0m\u001B[0mbandits\u001B[0m\u001B[0;34m[\u001B[0m\u001B[0;34m'c'\u001B[0m\u001B[0;34m]\u001B[0m \u001B[0;34m==\u001B[0m \u001B[0;36m1\u001B[0m\u001B[0;34m]\u001B[0m\u001B[0;34m.\u001B[0m\u001B[0mshape\u001B[0m\u001B[0;34m[\u001B[0m\u001B[0;36m0\u001B[0m\u001B[0;34m]\u001B[0m\u001B[0;34m\u001B[0m\u001B[0;34m\u001B[0m\u001B[0m\n",
      "\u001B[0;32m/workspace/ML/reco-gym/recogym/envs/abstract.py\u001B[0m in \u001B[0;36mgenerate_logs\u001B[0;34m(self, num_offline_users, agent, num_organic_offline_users)\u001B[0m\n\u001B[1;32m    388\u001B[0m                 \u001B[0m_store_organic\u001B[0m\u001B[0;34m(\u001B[0m\u001B[0mobservation\u001B[0m\u001B[0;34m)\u001B[0m\u001B[0;34m\u001B[0m\u001B[0;34m\u001B[0m\u001B[0m\n\u001B[1;32m    389\u001B[0m                 action, observation, reward, done, _ = self.step_offline(\n\u001B[0;32m--> 390\u001B[0;31m                     \u001B[0mobservation\u001B[0m\u001B[0;34m,\u001B[0m \u001B[0mreward\u001B[0m\u001B[0;34m,\u001B[0m \u001B[0mdone\u001B[0m\u001B[0;34m\u001B[0m\u001B[0;34m\u001B[0m\u001B[0m\n\u001B[0m\u001B[1;32m    391\u001B[0m                 )\n\u001B[1;32m    392\u001B[0m                 \u001B[0m_store_bandit\u001B[0m\u001B[0;34m(\u001B[0m\u001B[0maction\u001B[0m\u001B[0;34m,\u001B[0m \u001B[0mreward\u001B[0m\u001B[0;34m)\u001B[0m\u001B[0;34m\u001B[0m\u001B[0;34m\u001B[0m\u001B[0m\n",
      "\u001B[0;32m/workspace/ML/reco-gym/recogym/envs/abstract.py\u001B[0m in \u001B[0;36mstep_offline\u001B[0;34m(self, observation, reward, done)\u001B[0m\n\u001B[1;32m    278\u001B[0m             \u001B[0;32mif\u001B[0m \u001B[0mself\u001B[0m\u001B[0;34m.\u001B[0m\u001B[0magent\u001B[0m\u001B[0;34m:\u001B[0m\u001B[0;34m\u001B[0m\u001B[0;34m\u001B[0m\u001B[0m\n\u001B[1;32m    279\u001B[0m \u001B[0;34m\u001B[0m\u001B[0m\n\u001B[0;32m--> 280\u001B[0;31m                 \u001B[0maction\u001B[0m \u001B[0;34m=\u001B[0m \u001B[0mself\u001B[0m\u001B[0;34m.\u001B[0m\u001B[0magent\u001B[0m\u001B[0;34m.\u001B[0m\u001B[0mact\u001B[0m\u001B[0;34m(\u001B[0m\u001B[0mobservation\u001B[0m\u001B[0;34m,\u001B[0m \u001B[0mreward\u001B[0m\u001B[0;34m,\u001B[0m \u001B[0mdone\u001B[0m\u001B[0;34m)\u001B[0m \u001B[0;31m# ---- RUN AGENT ACT FOR FIRST TIME\u001B[0m\u001B[0;34m\u001B[0m\u001B[0;34m\u001B[0m\u001B[0m\n\u001B[0m\u001B[1;32m    281\u001B[0m \u001B[0;34m\u001B[0m\u001B[0m\n\u001B[1;32m    282\u001B[0m             \u001B[0;32melse\u001B[0m\u001B[0;34m:\u001B[0m\u001B[0;34m\u001B[0m\u001B[0;34m\u001B[0m\u001B[0m\n",
      "\u001B[0;32m/workspace/ML/reco-gym/recogym/agents/abstract.py\u001B[0m in \u001B[0;36mact\u001B[0;34m(self, observation, reward, done)\u001B[0m\n\u001B[1;32m    302\u001B[0m         \u001B[0;32mif\u001B[0m \u001B[0mself\u001B[0m\u001B[0;34m.\u001B[0m\u001B[0mmodel\u001B[0m \u001B[0;32mis\u001B[0m \u001B[0;32mNone\u001B[0m\u001B[0;34m:\u001B[0m\u001B[0;34m\u001B[0m\u001B[0;34m\u001B[0m\u001B[0m\n\u001B[1;32m    303\u001B[0m             \u001B[0;32massert\u001B[0m \u001B[0;34m(\u001B[0m\u001B[0mself\u001B[0m\u001B[0;34m.\u001B[0m\u001B[0mfeature_provider\u001B[0m \u001B[0;32mis\u001B[0m \u001B[0;32mNone\u001B[0m\u001B[0;34m)\u001B[0m\u001B[0;34m\u001B[0m\u001B[0;34m\u001B[0m\u001B[0m\n\u001B[0;32m--> 304\u001B[0;31m             \u001B[0mself\u001B[0m\u001B[0;34m.\u001B[0m\u001B[0mfeature_provider\u001B[0m\u001B[0;34m,\u001B[0m \u001B[0mself\u001B[0m\u001B[0;34m.\u001B[0m\u001B[0mmodel\u001B[0m \u001B[0;34m=\u001B[0m \u001B[0mself\u001B[0m\u001B[0;34m.\u001B[0m\u001B[0mmodel_builder\u001B[0m\u001B[0;34m.\u001B[0m\u001B[0mbuild\u001B[0m\u001B[0;34m(\u001B[0m\u001B[0;34m)\u001B[0m\u001B[0;34m\u001B[0m\u001B[0;34m\u001B[0m\u001B[0m\n\u001B[0m\u001B[1;32m    305\u001B[0m         \u001B[0mself\u001B[0m\u001B[0;34m.\u001B[0m\u001B[0mfeature_provider\u001B[0m\u001B[0;34m.\u001B[0m\u001B[0mobserve\u001B[0m\u001B[0;34m(\u001B[0m\u001B[0mobservation\u001B[0m\u001B[0;34m)\u001B[0m\u001B[0;34m\u001B[0m\u001B[0;34m\u001B[0m\u001B[0m\n\u001B[1;32m    306\u001B[0m         return {\n",
      "\u001B[0;32m/workspace/ML/reco-gym/recogym/agents/logreg_poly.py\u001B[0m in \u001B[0;36mbuild\u001B[0;34m(self)\u001B[0m\n\u001B[1;32m    167\u001B[0m                 }\n\u001B[1;32m    168\u001B[0m \u001B[0;34m\u001B[0m\u001B[0m\n\u001B[0;32m--> 169\u001B[0;31m         \u001B[0mfeatures\u001B[0m\u001B[0;34m,\u001B[0m \u001B[0mactions\u001B[0m\u001B[0;34m,\u001B[0m \u001B[0mdeltas\u001B[0m\u001B[0;34m,\u001B[0m \u001B[0mpss\u001B[0m \u001B[0;34m=\u001B[0m \u001B[0mself\u001B[0m\u001B[0;34m.\u001B[0m\u001B[0mtrain_data\u001B[0m\u001B[0;34m(\u001B[0m\u001B[0;34m)\u001B[0m\u001B[0;34m\u001B[0m\u001B[0;34m\u001B[0m\u001B[0m\n\u001B[0m\u001B[1;32m    170\u001B[0m \u001B[0;34m\u001B[0m\u001B[0m\n\u001B[1;32m    171\u001B[0m         logreg = LogisticRegression(\n",
      "\u001B[0;32m/workspace/ML/reco-gym/recogym/agents/abstract.py\u001B[0m in \u001B[0;36mtrain_data\u001B[0;34m(self)\u001B[0m\n\u001B[1;32m    267\u001B[0m                     \u001B[0mpss\u001B[0m\u001B[0;34m.\u001B[0m\u001B[0mappend\u001B[0m\u001B[0;34m(\u001B[0m\u001B[0mps\u001B[0m\u001B[0;34m)\u001B[0m\u001B[0;34m\u001B[0m\u001B[0;34m\u001B[0m\u001B[0m\n\u001B[1;32m    268\u001B[0m \u001B[0;34m\u001B[0m\u001B[0m\n\u001B[0;32m--> 269\u001B[0;31m         \u001B[0mout_features\u001B[0m \u001B[0;34m=\u001B[0m \u001B[0msparse\u001B[0m\u001B[0;34m.\u001B[0m\u001B[0mvstack\u001B[0m\u001B[0;34m(\u001B[0m\u001B[0mfeatures\u001B[0m\u001B[0;34m,\u001B[0m \u001B[0mformat\u001B[0m\u001B[0;34m=\u001B[0m\u001B[0;34m'csr'\u001B[0m\u001B[0;34m)\u001B[0m\u001B[0;34m\u001B[0m\u001B[0;34m\u001B[0m\u001B[0m\n\u001B[0m\u001B[1;32m    270\u001B[0m         return (\n\u001B[1;32m    271\u001B[0m             (\n",
      "\u001B[0;32m/workspace/ML/reco-gym/venv/lib/python3.7/site-packages/scipy/sparse/construct.py\u001B[0m in \u001B[0;36mvstack\u001B[0;34m(blocks, format, dtype)\u001B[0m\n\u001B[1;32m    497\u001B[0m \u001B[0;34m\u001B[0m\u001B[0m\n\u001B[1;32m    498\u001B[0m     \"\"\"\n\u001B[0;32m--> 499\u001B[0;31m     \u001B[0;32mreturn\u001B[0m \u001B[0mbmat\u001B[0m\u001B[0;34m(\u001B[0m\u001B[0;34m[\u001B[0m\u001B[0;34m[\u001B[0m\u001B[0mb\u001B[0m\u001B[0;34m]\u001B[0m \u001B[0;32mfor\u001B[0m \u001B[0mb\u001B[0m \u001B[0;32min\u001B[0m \u001B[0mblocks\u001B[0m\u001B[0;34m]\u001B[0m\u001B[0;34m,\u001B[0m \u001B[0mformat\u001B[0m\u001B[0;34m=\u001B[0m\u001B[0mformat\u001B[0m\u001B[0;34m,\u001B[0m \u001B[0mdtype\u001B[0m\u001B[0;34m=\u001B[0m\u001B[0mdtype\u001B[0m\u001B[0;34m)\u001B[0m\u001B[0;34m\u001B[0m\u001B[0;34m\u001B[0m\u001B[0m\n\u001B[0m\u001B[1;32m    500\u001B[0m \u001B[0;34m\u001B[0m\u001B[0m\n\u001B[1;32m    501\u001B[0m \u001B[0;34m\u001B[0m\u001B[0m\n",
      "\u001B[0;32m/workspace/ML/reco-gym/venv/lib/python3.7/site-packages/scipy/sparse/construct.py\u001B[0m in \u001B[0;36mbmat\u001B[0;34m(blocks, format, dtype)\u001B[0m\n\u001B[1;32m    546\u001B[0m \u001B[0;34m\u001B[0m\u001B[0m\n\u001B[1;32m    547\u001B[0m     \u001B[0;32mif\u001B[0m \u001B[0mblocks\u001B[0m\u001B[0;34m.\u001B[0m\u001B[0mndim\u001B[0m \u001B[0;34m!=\u001B[0m \u001B[0;36m2\u001B[0m\u001B[0;34m:\u001B[0m\u001B[0;34m\u001B[0m\u001B[0;34m\u001B[0m\u001B[0m\n\u001B[0;32m--> 548\u001B[0;31m         \u001B[0;32mraise\u001B[0m \u001B[0mValueError\u001B[0m\u001B[0;34m(\u001B[0m\u001B[0;34m'blocks must be 2-D'\u001B[0m\u001B[0;34m)\u001B[0m\u001B[0;34m\u001B[0m\u001B[0;34m\u001B[0m\u001B[0m\n\u001B[0m\u001B[1;32m    549\u001B[0m \u001B[0;34m\u001B[0m\u001B[0m\n\u001B[1;32m    550\u001B[0m     \u001B[0mM\u001B[0m\u001B[0;34m,\u001B[0m\u001B[0mN\u001B[0m \u001B[0;34m=\u001B[0m \u001B[0mblocks\u001B[0m\u001B[0;34m.\u001B[0m\u001B[0mshape\u001B[0m\u001B[0;34m\u001B[0m\u001B[0;34m\u001B[0m\u001B[0m\n",
      "\u001B[0;31mValueError\u001B[0m: blocks must be 2-D"
     ]
    }
   ],
   "source": [
    "result_AB = verify_agents(env, Users, {\n",
    "    'Static Agent': single_action_agent,                                    \n",
    "    'Random': random_agent,\n",
    "    'Popularity': organic_user_counter_agent,\n",
    "    'Organic count':organic_count_agent,\n",
    "    'Organic MF': organic_mf_agent,\n",
    "    'Bandit count': bandit_count_bandit,\n",
    "    'Bandit MF': bandit_mf_square_agent,\n",
    "    })\n",
    "\n",
    "result_AB"
   ]
  },
  {
   "cell_type": "code",
   "execution_count": null,
   "metadata": {
    "pycharm": {
     "name": "#%%\n"
    }
   },
   "outputs": [],
   "source": [
    "fig = plot_verify_agents(result_AB)\n",
    "plt.ylabel('CTR')\n",
    "plt.show()"
   ]
  },
  {
   "cell_type": "markdown",
   "metadata": {
    "pycharm": {
     "name": "#%% md\n"
    }
   },
   "source": []
  }
 ],
 "metadata": {
  "kernelspec": {
   "display_name": "Python 3",
   "language": "python",
   "name": "python3"
  },
  "language_info": {
   "codemirror_mode": {
    "name": "ipython",
    "version": 3
   },
   "file_extension": ".py",
   "mimetype": "text/x-python",
   "name": "python",
   "nbconvert_exporter": "python",
   "pygments_lexer": "ipython3",
   "version": "3.7.7"
  }
 },
 "nbformat": 4,
 "nbformat_minor": 2
}