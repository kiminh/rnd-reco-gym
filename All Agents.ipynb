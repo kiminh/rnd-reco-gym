{
 "cells": [
  {
   "cell_type": "markdown",
   "metadata": {},
   "source": [
    "## Comparing Agents List:\n",
    "\n",
    "###### 1. Single Action Agent\n",
    "Always returns the same action / product id.\n",
    "\n",
    "###### 2. Random Action Agent\n",
    "The Agent returns the random action from all of product id's range.\n",
    "\n",
    "###### 3. Organic Product Count Agent\n",
    "The Agent that selects an action based on the most frequently viewed Product.\n",
    "\n",
    "###### 4. Organic Per User Count Agent\n",
    "The Agent that counts organic views of products per a user and selects an action for the most frequently shown product.\n",
    "\n",
    "###### 5. Define Organic MF Agent\n",
    "The Agent that selects an action from the model that performs Organic Events matrix factorisation.\n",
    "\n",
    "###### 6. Bandit Click Count Agent\n",
    "The Agent that selects an Action for the most frequently clicked bandit action before.\n",
    "\n",
    "###### 7. Bandit MF Agent - used Matrix Factorization learning model\n",
    "The Agent chooses maximum logit (logistic regression) from all possible actions.\n",
    "\n",
    "###### 8. Likelihood Agent\n",
    "Act method returns an action based on current observation and past history."
   ]
  },
  {
   "cell_type": "markdown",
   "metadata": {},
   "source": [
    "## Environment Setup"
   ]
  },
  {
   "cell_type": "code",
   "execution_count": 1,
   "metadata": {
    "pycharm": {
     "is_executing": true
    }
   },
   "outputs": [
    {
     "name": "stderr",
     "output_type": "stream",
     "text": [
      "/workspace/ML/reco-gym/recogym/envs/abstract.py:54: FutureWarning: Passing a negative integer is deprecated in version 1.0 and will not be supported in future version. Instead, use None to not limit the column width.\n",
      "  pd.set_option('display.max_colwidth', -1)\n"
     ]
    }
   ],
   "source": [
    "from copy import deepcopy\n",
    "\n",
    "import recogym\n",
    "from my_agent_utils import add_agent_id, combine_stat\n",
    "from my_entries.likehood_agent import LikelihoodAgent, CountFeatureProvider\n",
    "from single_action_agent import SingleActionAgent\n",
    "%matplotlib inline\n",
    "import gym\n",
    "import matplotlib.pyplot as plt\n",
    "\n",
    "from recogym import env_1_args, Configuration\n",
    "from recogym.agents import OrganicUserEventCounterAgent, organic_user_count_args, OrganicCount, organic_count_args, \\\n",
    "    OrganicMFSquare, organic_mf_square_args, BanditCount, bandit_count_args, BanditMFSquare, bandit_mf_square_args\n",
    "from recogym.agents import RandomAgent, random_args\n",
    "from recogym.evaluate_agent import plot_verify_agents\n",
    "\n",
    "# Set style for pretty plots\n",
    "plt.style.use('ggplot')\n",
    "\n",
    "products = 100\n",
    "\n",
    "offline_users = 5400\n",
    "online_users = 500\n",
    "\n",
    "# You can overwrite environment arguments here:\n",
    "\n",
    "env_1_args['random_seed'] = 42\n",
    "env_1_args['num_products']= products\n",
    "env_1_args['phi_var']=0.0\n",
    "env_1_args['number_of_flips']=1\n",
    "\n",
    "# env_1_args['sigma_mu_organic'] = 0.0\n",
    "# env_1_args['sigma_omega']=0\n",
    "# env_1_args['normalize_beta']=True\n",
    "\n",
    "# Initialize the gym for the first time by calling .make() and .init_gym()\n",
    "\n",
    "#---------------------------------------------\n",
    "%config InlineBackend.figure_format = 'retina'\n",
    "plt.rcParams['figure.figsize'] = [6, 3]\n",
    "\n",
    "env_1_args['number_of_flips'] = 0\n",
    "env_1_args['sigma_mu_organic'] = 0.0\n",
    "env_1_args['sigma_omega'] = 1\n",
    "env_1_args['random_seed'] = 42\n",
    "env_1_args['num_products'] = products\n",
    "env_1_args['K'] = 5\n",
    "env_1_args['number_of_flips'] = 5\n",
    "#---------------------------------------------\n",
    "\n",
    "env = gym.make('reco-gym-v1')\n",
    "env.init_gym(env_1_args)\n",
    "\n",
    "env.reset()\n"
   ]
  },
  {
   "cell_type": "markdown",
   "metadata": {},
   "source": [
    "1. Define Single Action Agent"
   ]
  },
  {
   "cell_type": "code",
   "execution_count": 2,
   "metadata": {
    "pycharm": {
     "name": "#%%\n"
    }
   },
   "outputs": [
    {
     "name": "stdout",
     "output_type": "stream",
     "text": [
      "SingleActionAgent %%%% num_products: 100\n"
     ]
    }
   ],
   "source": [
    "single_action_agent = SingleActionAgent(Configuration({**env_1_args,}))"
   ]
  },
  {
   "cell_type": "markdown",
   "metadata": {},
   "source": [
    "2. Define Random Action Agent"
   ]
  },
  {
   "cell_type": "code",
   "execution_count": 3,
   "metadata": {
    "pycharm": {
     "name": "#%%\n"
    }
   },
   "outputs": [
    {
     "name": "stdout",
     "output_type": "stream",
     "text": [
      "RandomAgent %%%% num_products: 100\n"
     ]
    }
   ],
   "source": [
    "random_agent = RandomAgent(Configuration({**random_args,**env_1_args,}))"
   ]
  },
  {
   "cell_type": "markdown",
   "metadata": {},
   "source": [
    "3. Define Organic Product Count Agent"
   ]
  },
  {
   "cell_type": "code",
   "execution_count": 4,
   "metadata": {
    "pycharm": {
     "name": "#%%\n"
    }
   },
   "outputs": [],
   "source": [
    "organic_count_agent = OrganicCount(Configuration({**organic_count_args,**env_1_args,}))"
   ]
  },
  {
   "cell_type": "markdown",
   "metadata": {},
   "source": [
    "4. Define Organic Per User Count Agent"
   ]
  },
  {
   "cell_type": "code",
   "execution_count": 5,
   "metadata": {},
   "outputs": [],
   "source": [
    "organic_user_counter_agent = OrganicUserEventCounterAgent(Configuration({**organic_user_count_args, **env_1_args, 'select_randomly': True,}))"
   ]
  },
  {
   "cell_type": "markdown",
   "metadata": {},
   "source": [
    "5. Define Organic MF Agent"
   ]
  },
  {
   "cell_type": "code",
   "execution_count": 6,
   "metadata": {
    "pycharm": {
     "name": "#%%\n"
    }
   },
   "outputs": [],
   "source": [
    "organic_mf_agent = OrganicMFSquare(Configuration({**organic_mf_square_args, **env_1_args, 'select_randomly': True,}))"
   ]
  },
  {
   "cell_type": "markdown",
   "metadata": {},
   "source": [
    "6. Define Bandit Click Count Agent"
   ]
  },
  {
   "cell_type": "code",
   "execution_count": 7,
   "metadata": {
    "pycharm": {
     "name": "#%%\n"
    }
   },
   "outputs": [
    {
     "name": "stdout",
     "output_type": "stream",
     "text": [
      "BanditCount %%%% num_products: 100\n"
     ]
    }
   ],
   "source": [
    "bandit_count_agent = BanditCount(Configuration({**bandit_count_args,**env_1_args,}))"
   ]
  },
  {
   "cell_type": "markdown",
   "metadata": {},
   "source": [
    "7. Define Bandit MF Agent"
   ]
  },
  {
   "cell_type": "code",
   "execution_count": 8,
   "metadata": {
    "pycharm": {
     "name": "#%%\n"
    }
   },
   "outputs": [],
   "source": [
    "bandit_mf_square_agent = BanditMFSquare(Configuration({ **bandit_mf_square_args, **env_1_args,}))"
   ]
  },
  {
   "cell_type": "markdown",
   "metadata": {},
   "source": [
    "8. Define Likelihood Agent"
   ]
  },
  {
   "cell_type": "code",
   "execution_count": 9,
   "metadata": {
    "pycharm": {
     "name": "#%%\n"
    }
   },
   "outputs": [],
   "source": [
    "# from scipy.stats import beta\n",
    "# import pandas as pd\n",
    "#\n",
    "# config = Configuration(env_1_args)\n",
    "#\n",
    "# count_product_views_feature_provider = CountFeatureProvider(config)\n",
    "#\n",
    "# likelihood_agent = LikelihoodAgent(count_product_views_feature_provider)\n",
    "#\n",
    "# lh_data = deepcopy(env).generate_logs(offline_users)\n",
    "#\n",
    "# likelihood_agent.train_from_logs(lh_data)\n",
    "#\n",
    "# bandits = lh_data[lh_data['z'] == 'bandit']\n",
    "# successes = bandits[bandits['c'] == 1].shape[0]\n",
    "# failures = bandits[bandits['c'] == 0].shape[0]\n",
    "#\n",
    "# lh_agent_res = add_agent_id(\n",
    "#     'Likelihood',\n",
    "#     beta.ppf(0.025, successes + 1, failures + 1),\n",
    "#     beta.ppf(0.500, successes + 1, failures + 1),\n",
    "#     beta.ppf(0.975, successes + 1, failures + 1))\n"
   ]
  },
  {
   "cell_type": "code",
   "execution_count": 10,
   "metadata": {
    "pycharm": {
     "name": "#%%\n"
    }
   },
   "outputs": [],
   "source": [
    "# pd.DataFrame().from_dict(lh_agent_res)"
   ]
  },
  {
   "cell_type": "markdown",
   "metadata": {
    "pycharm": {
     "name": "#%% md\n"
    }
   },
   "source": [
    "## A/B-Test Evaluation"
   ]
  },
  {
   "cell_type": "code",
   "execution_count": 11,
   "metadata": {
    "pycharm": {
     "name": "#%%\n"
    }
   },
   "outputs": [
    {
     "name": "stderr",
     "output_type": "stream",
     "text": [
      "Organic Users: 0it [00:00, ?it/s]\n",
      "Users:   0%|          | 0/500 [00:00<?, ?it/s]"
     ]
    },
    {
     "name": "stdout",
     "output_type": "stream",
     "text": [
      "test_agent agent #BanditMFSquare(\n",
      "  (product_embedding): Embedding(100, 5)\n",
      "  (user_embedding): Embedding(100, 5)\n",
      "))\n",
      "test_agent num_offline_users #500)\n",
      "test_agent num_online_users #500)\n",
      "test_agent num_organic_offline_users #0)\n",
      "START: Agent Training #0\n",
      "START: Agent BanditMFSquare(\n",
      "  (product_embedding): Embedding(100, 5)\n",
      "  (user_embedding): Embedding(100, 5)\n",
      ") Training: offline users 500 @ Epoch #0\n"
     ]
    },
    {
     "name": "stderr",
     "output_type": "stream",
     "text": [
      "Users: 100%|██████████| 500/500 [00:11<00:00, 44.18it/s]\n",
      "Organic Users: 0it [00:00, ?it/s]\n",
      "Users:   0%|          | 1/500 [00:00<00:56,  8.77it/s]"
     ]
    },
    {
     "name": "stdout",
     "output_type": "stream",
     "text": [
      "END: Agent Training @ Epoch #0 (11.321485996246338s)\n",
      "START: Agent Evaluating online users 500 @ Epoch #0\n"
     ]
    },
    {
     "name": "stderr",
     "output_type": "stream",
     "text": [
      "Users: 100%|██████████| 500/500 [00:14<00:00, 34.19it/s]\n"
     ]
    },
    {
     "name": "stdout",
     "output_type": "stream",
     "text": [
      "END: Agent Evaluating @ Epoch #0 (14.69879698753357s)\n"
     ]
    }
   ],
   "source": [
    "result_bandit_mf = recogym.test_agent(deepcopy(env), deepcopy(bandit_mf_square_agent), offline_users, online_users)\n",
    "result_bandit_mf_id = add_agent_id('Bandit MF Agent', *result_bandit_mf)"
   ]
  },
  {
   "cell_type": "code",
   "execution_count": 12,
   "metadata": {
    "pycharm": {
     "name": "#%%\n"
    }
   },
   "outputs": [
    {
     "name": "stderr",
     "output_type": "stream",
     "text": [
      "Organic Users: 0it [00:00, ?it/s]\n",
      "Users:   1%|          | 3/500 [00:00<00:20, 24.41it/s]"
     ]
    },
    {
     "name": "stdout",
     "output_type": "stream",
     "text": [
      "test_agent agent #<single_action_agent.SingleActionAgent object at 0x1322e0b90>)\n",
      "test_agent num_offline_users #500)\n",
      "test_agent num_online_users #500)\n",
      "test_agent num_organic_offline_users #0)\n",
      "START: Agent Training #0\n",
      "START: Agent <single_action_agent.SingleActionAgent object at 0x1322bc890> Training: offline users 500 @ Epoch #0\n"
     ]
    },
    {
     "name": "stderr",
     "output_type": "stream",
     "text": [
      "Users: 100%|██████████| 500/500 [00:09<00:00, 51.72it/s]\n",
      "Organic Users: 0it [00:00, ?it/s]\n",
      "Users:   0%|          | 0/500 [00:00<?, ?it/s]/workspace/ML/reco-gym/single_action_agent.py:40: RuntimeWarning: invalid value encountered in true_divide\n",
      "  prob = self.organic_views / sum(self.organic_views)\n",
      "Users:   1%|          | 3/500 [00:00<00:17, 29.14it/s]"
     ]
    },
    {
     "name": "stdout",
     "output_type": "stream",
     "text": [
      "END: Agent Training @ Epoch #0 (9.680397748947144s)\n",
      "START: Agent Evaluating online users 500 @ Epoch #0\n"
     ]
    },
    {
     "name": "stderr",
     "output_type": "stream",
     "text": [
      "Users: 100%|██████████| 500/500 [00:09<00:00, 54.61it/s]\n"
     ]
    },
    {
     "name": "stdout",
     "output_type": "stream",
     "text": [
      "END: Agent Evaluating @ Epoch #0 (9.22967004776001s)\n"
     ]
    }
   ],
   "source": [
    "result_single = recogym.test_agent(deepcopy(env), deepcopy(single_action_agent), offline_users, online_users)\n",
    "result_single_id = add_agent_id('Single Action Agent', *result_single)"
   ]
  },
  {
   "cell_type": "code",
   "execution_count": 13,
   "metadata": {
    "pycharm": {
     "name": "#%%\n"
    }
   },
   "outputs": [
    {
     "name": "stderr",
     "output_type": "stream",
     "text": [
      "Organic Users: 0it [00:00, ?it/s]\n",
      "Users:   1%|          | 3/500 [00:00<00:17, 28.18it/s]"
     ]
    },
    {
     "name": "stdout",
     "output_type": "stream",
     "text": [
      "test_agent agent #<recogym.agents.random_agent.RandomAgent object at 0x1324f2490>)\n",
      "test_agent num_offline_users #500)\n",
      "test_agent num_online_users #500)\n",
      "test_agent num_organic_offline_users #0)\n",
      "START: Agent Training #0\n",
      "START: Agent <recogym.agents.random_agent.RandomAgent object at 0x1326282d0> Training: offline users 500 @ Epoch #0\n"
     ]
    },
    {
     "name": "stderr",
     "output_type": "stream",
     "text": [
      "Users: 100%|██████████| 500/500 [00:09<00:00, 54.00it/s]\n",
      "Organic Users: 0it [00:00, ?it/s]\n",
      "Users:   1%|          | 4/500 [00:00<00:16, 30.12it/s]"
     ]
    },
    {
     "name": "stdout",
     "output_type": "stream",
     "text": [
      "END: Agent Training @ Epoch #0 (9.263108968734741s)\n",
      "START: Agent Evaluating online users 500 @ Epoch #0\n"
     ]
    },
    {
     "name": "stderr",
     "output_type": "stream",
     "text": [
      "Users: 100%|██████████| 500/500 [00:08<00:00, 55.88it/s]\n"
     ]
    },
    {
     "name": "stdout",
     "output_type": "stream",
     "text": [
      "END: Agent Evaluating @ Epoch #0 (9.02415680885315s)\n"
     ]
    }
   ],
   "source": [
    "result_random = recogym.test_agent(deepcopy(env), deepcopy(random_agent), offline_users, online_users)\n",
    "result_random_id = add_agent_id('Random Agent', *result_random)"
   ]
  },
  {
   "cell_type": "code",
   "execution_count": 14,
   "metadata": {
    "pycharm": {
     "name": "#%%\n"
    }
   },
   "outputs": [
    {
     "name": "stderr",
     "output_type": "stream",
     "text": [
      "Organic Users: 0it [00:00, ?it/s]\n",
      "Users:   1%|          | 3/500 [00:00<00:19, 25.62it/s]"
     ]
    },
    {
     "name": "stdout",
     "output_type": "stream",
     "text": [
      "test_agent agent #<recogym.agents.organic_count.OrganicCount object at 0x132628050>)\n",
      "test_agent num_offline_users #500)\n",
      "test_agent num_online_users #500)\n",
      "test_agent num_organic_offline_users #0)\n",
      "START: Agent Training #0\n",
      "START: Agent <recogym.agents.organic_count.OrganicCount object at 0x132627210> Training: offline users 500 @ Epoch #0\n"
     ]
    },
    {
     "name": "stderr",
     "output_type": "stream",
     "text": [
      "Users: 100%|██████████| 500/500 [00:10<00:00, 49.64it/s]\n",
      "Organic Users: 0it [00:00, ?it/s]\n",
      "Users:   1%|          | 4/500 [00:00<00:18, 27.45it/s]"
     ]
    },
    {
     "name": "stdout",
     "output_type": "stream",
     "text": [
      "END: Agent Training @ Epoch #0 (10.083398818969727s)\n",
      "START: Agent Evaluating online users 500 @ Epoch #0\n"
     ]
    },
    {
     "name": "stderr",
     "output_type": "stream",
     "text": [
      "Users: 100%|██████████| 500/500 [00:08<00:00, 59.63it/s]\n"
     ]
    },
    {
     "name": "stdout",
     "output_type": "stream",
     "text": [
      "END: Agent Evaluating @ Epoch #0 (8.474252700805664s)\n"
     ]
    }
   ],
   "source": [
    "result_organic_count = recogym.test_agent(deepcopy(env), deepcopy(organic_count_agent), offline_users, online_users)\n",
    "result_organic_count_id = add_agent_id('Organic Count Agent', *result_organic_count)"
   ]
  },
  {
   "cell_type": "code",
   "execution_count": 15,
   "metadata": {
    "pycharm": {
     "name": "#%%\n"
    }
   },
   "outputs": [
    {
     "name": "stderr",
     "output_type": "stream",
     "text": [
      "Organic Users: 0it [00:00, ?it/s]\n",
      "Users:   1%|          | 3/500 [00:00<00:21, 23.17it/s]"
     ]
    },
    {
     "name": "stdout",
     "output_type": "stream",
     "text": [
      "test_agent agent #<recogym.agents.organic_user_count.OrganicUserEventCounterAgent object at 0x1326276d0>)\n",
      "test_agent num_offline_users #500)\n",
      "test_agent num_online_users #500)\n",
      "test_agent num_organic_offline_users #0)\n",
      "START: Agent Training #0\n",
      "START: Agent <recogym.agents.organic_user_count.OrganicUserEventCounterAgent object at 0x13261f0d0> Training: offline users 500 @ Epoch #0\n"
     ]
    },
    {
     "name": "stderr",
     "output_type": "stream",
     "text": [
      "Users: 100%|██████████| 500/500 [00:11<00:00, 44.12it/s]\n",
      "Organic Users: 0it [00:00, ?it/s]\n",
      "Users:   0%|          | 2/500 [00:00<00:26, 19.02it/s]"
     ]
    },
    {
     "name": "stdout",
     "output_type": "stream",
     "text": [
      "END: Agent Training @ Epoch #0 (11.340512990951538s)\n",
      "START: Agent Evaluating online users 500 @ Epoch #0\n"
     ]
    },
    {
     "name": "stderr",
     "output_type": "stream",
     "text": [
      "Users: 100%|██████████| 500/500 [00:11<00:00, 43.28it/s]"
     ]
    },
    {
     "name": "stdout",
     "output_type": "stream",
     "text": [
      "END: Agent Evaluating @ Epoch #0 (11.628166913986206s)\n"
     ]
    },
    {
     "name": "stderr",
     "output_type": "stream",
     "text": [
      "\n"
     ]
    }
   ],
   "source": [
    "result_organic_user_counter = recogym.test_agent(deepcopy(env), deepcopy(organic_user_counter_agent), offline_users, online_users)\n",
    "result_organic_user_counter_id = add_agent_id('Organic Count per User Agent', *result_organic_user_counter)"
   ]
  },
  {
   "cell_type": "code",
   "execution_count": 16,
   "metadata": {
    "pycharm": {
     "name": "#%%\n"
    }
   },
   "outputs": [
    {
     "name": "stderr",
     "output_type": "stream",
     "text": [
      "Organic Users: 0it [00:00, ?it/s]\n",
      "Users:   1%|          | 3/500 [00:00<00:23, 21.30it/s]"
     ]
    },
    {
     "name": "stdout",
     "output_type": "stream",
     "text": [
      "test_agent agent #OrganicMFSquare(\n",
      "  (product_embedding): Embedding(100, 5)\n",
      "  (output_layer): Linear(in_features=5, out_features=100, bias=True)\n",
      "))\n",
      "test_agent num_offline_users #500)\n",
      "test_agent num_online_users #500)\n",
      "test_agent num_organic_offline_users #0)\n",
      "START: Agent Training #0\n",
      "START: Agent OrganicMFSquare(\n",
      "  (product_embedding): Embedding(100, 5)\n",
      "  (output_layer): Linear(in_features=5, out_features=100, bias=True)\n",
      ") Training: offline users 500 @ Epoch #0\n"
     ]
    },
    {
     "name": "stderr",
     "output_type": "stream",
     "text": [
      "Users: 100%|██████████| 500/500 [00:12<00:00, 39.75it/s]\n",
      "Organic Users: 0it [00:00, ?it/s]\n",
      "Users:   1%|          | 4/500 [00:00<00:15, 31.71it/s]"
     ]
    },
    {
     "name": "stdout",
     "output_type": "stream",
     "text": [
      "END: Agent Training @ Epoch #0 (12.580477952957153s)\n",
      "START: Agent Evaluating online users 500 @ Epoch #0\n"
     ]
    },
    {
     "name": "stderr",
     "output_type": "stream",
     "text": [
      "Users: 100%|██████████| 500/500 [00:08<00:00, 59.91it/s]\n"
     ]
    },
    {
     "name": "stdout",
     "output_type": "stream",
     "text": [
      "END: Agent Evaluating @ Epoch #0 (8.41877293586731s)\n"
     ]
    }
   ],
   "source": [
    "result_organic_mf = recogym.test_agent(deepcopy(env), deepcopy(organic_mf_agent), offline_users, online_users)\n",
    "result_organic_mf_id = add_agent_id('Organic MF Agent', *result_organic_mf)"
   ]
  },
  {
   "cell_type": "code",
   "execution_count": 17,
   "metadata": {
    "pycharm": {
     "name": "#%%\n"
    }
   },
   "outputs": [
    {
     "name": "stderr",
     "output_type": "stream",
     "text": [
      "Organic Users: 0it [00:00, ?it/s]\n",
      "Users:   1%|          | 3/500 [00:00<00:19, 25.80it/s]"
     ]
    },
    {
     "name": "stdout",
     "output_type": "stream",
     "text": [
      "test_agent agent #<recogym.agents.bandit_count.BanditCount object at 0x132627bd0>)\n",
      "test_agent num_offline_users #500)\n",
      "test_agent num_online_users #500)\n",
      "test_agent num_organic_offline_users #0)\n",
      "START: Agent Training #0\n",
      "START: Agent <recogym.agents.bandit_count.BanditCount object at 0x13261ff10> Training: offline users 500 @ Epoch #0\n"
     ]
    },
    {
     "name": "stderr",
     "output_type": "stream",
     "text": [
      "Users: 100%|██████████| 500/500 [00:09<00:00, 54.85it/s]\n",
      "Organic Users: 0it [00:00, ?it/s]\n",
      "Users:   1%|          | 4/500 [00:00<00:15, 31.33it/s]"
     ]
    },
    {
     "name": "stdout",
     "output_type": "stream",
     "text": [
      "END: Agent Training @ Epoch #0 (9.1194429397583s)\n",
      "START: Agent Evaluating online users 500 @ Epoch #0\n"
     ]
    },
    {
     "name": "stderr",
     "output_type": "stream",
     "text": [
      "Users: 100%|██████████| 500/500 [00:07<00:00, 63.53it/s]\n"
     ]
    },
    {
     "name": "stdout",
     "output_type": "stream",
     "text": [
      "END: Agent Evaluating @ Epoch #0 (7.966737985610962s)\n"
     ]
    }
   ],
   "source": [
    "result_bandit_count = recogym.test_agent(deepcopy(env), deepcopy(bandit_count_agent), offline_users, online_users)\n",
    "result_bandit_count_id = add_agent_id('Bandit Count Agent', *result_bandit_count)"
   ]
  },
  {
   "cell_type": "code",
   "execution_count": 18,
   "metadata": {
    "pycharm": {
     "name": "#%%\n"
    }
   },
   "outputs": [],
   "source": [
    "# result_likelihood = recogym.test_agent(deepcopy(env), deepcopy(likelihood_agent), offline_users, online_users)\n",
    "# result_likelihood_id = add_agent_id('Likelihood Agent', *result_likelihood)"
   ]
  },
  {
   "cell_type": "code",
   "execution_count": 19,
   "metadata": {
    "pycharm": {
     "name": "#%%\n"
    }
   },
   "outputs": [
    {
     "name": "stdout",
     "output_type": "stream",
     "text": [
      "===> {'Agent': ['Single Action Agent'], '0.025': [0.011436433897462767], '0.500': [0.012496234543291896], '0.975': [0.013618722970324293]}\n",
      "===> {'Agent': ['Random Agent'], '0.025': [0.011634231213727912], '0.500': [0.012703172162006887], '0.975': [0.013834804326299244]}\n",
      "===> {'Agent': ['Organic Count Agent'], '0.025': [0.02396619500974182], '0.500': [0.025512465651968814], '0.975': [0.027122084714779837]}\n",
      "===> {'Agent': ['Organic Count per User Agent'], '0.025': [0.020958973386076194], '0.500': [0.02241891607284331], '0.975': [0.02394354696476797]}\n",
      "===> {'Agent': ['Organic MF Agent'], '0.025': [0.022450916333975328], '0.500': [0.023953509254576906], '0.975': [0.02552001998029718]}\n",
      "===> {'Agent': ['Bandit MF Agent'], '0.025': [0.010822685492595357], '0.500': [0.011856082330352024], '0.975': [0.012952449572398494]}\n"
     ]
    }
   ],
   "source": [
    "comb_result = combine_stat([\n",
    "                            result_single_id,\n",
    "                            result_random_id,\n",
    "                            result_organic_count_id,\n",
    "                            result_organic_user_counter_id,\n",
    "                            result_organic_mf_id,\n",
    "                            result_bandit_mf_id,\n",
    "                            # result_likelihood_id\n",
    "                            ])\n"
   ]
  },
  {
   "cell_type": "code",
   "execution_count": 20,
   "metadata": {
    "pycharm": {
     "name": "#%%\n"
    }
   },
   "outputs": [
    {
     "data": {
      "text/html": [
       "<div>\n",
       "<style scoped>\n",
       "    .dataframe tbody tr th:only-of-type {\n",
       "        vertical-align: middle;\n",
       "    }\n",
       "\n",
       "    .dataframe tbody tr th {\n",
       "        vertical-align: top;\n",
       "    }\n",
       "\n",
       "    .dataframe thead th {\n",
       "        text-align: right;\n",
       "    }\n",
       "</style>\n",
       "<table border=\"1\" class=\"dataframe\">\n",
       "  <thead>\n",
       "    <tr style=\"text-align: right;\">\n",
       "      <th></th>\n",
       "      <th>Agent</th>\n",
       "      <th>0.025</th>\n",
       "      <th>0.500</th>\n",
       "      <th>0.975</th>\n",
       "    </tr>\n",
       "  </thead>\n",
       "  <tbody>\n",
       "    <tr>\n",
       "      <th>0</th>\n",
       "      <td>Single Action Agent</td>\n",
       "      <td>0.011436</td>\n",
       "      <td>0.012496</td>\n",
       "      <td>0.013619</td>\n",
       "    </tr>\n",
       "    <tr>\n",
       "      <th>1</th>\n",
       "      <td>Random Agent</td>\n",
       "      <td>0.011634</td>\n",
       "      <td>0.012703</td>\n",
       "      <td>0.013835</td>\n",
       "    </tr>\n",
       "    <tr>\n",
       "      <th>2</th>\n",
       "      <td>Organic Count Agent</td>\n",
       "      <td>0.023966</td>\n",
       "      <td>0.025512</td>\n",
       "      <td>0.027122</td>\n",
       "    </tr>\n",
       "    <tr>\n",
       "      <th>3</th>\n",
       "      <td>Organic Count per User Agent</td>\n",
       "      <td>0.020959</td>\n",
       "      <td>0.022419</td>\n",
       "      <td>0.023944</td>\n",
       "    </tr>\n",
       "    <tr>\n",
       "      <th>4</th>\n",
       "      <td>Organic MF Agent</td>\n",
       "      <td>0.022451</td>\n",
       "      <td>0.023954</td>\n",
       "      <td>0.025520</td>\n",
       "    </tr>\n",
       "    <tr>\n",
       "      <th>5</th>\n",
       "      <td>Bandit MF Agent</td>\n",
       "      <td>0.010823</td>\n",
       "      <td>0.011856</td>\n",
       "      <td>0.012952</td>\n",
       "    </tr>\n",
       "  </tbody>\n",
       "</table>\n",
       "</div>"
      ],
      "text/plain": [
       "                          Agent     0.025     0.500     0.975\n",
       "0  Single Action Agent           0.011436  0.012496  0.013619\n",
       "1  Random Agent                  0.011634  0.012703  0.013835\n",
       "2  Organic Count Agent           0.023966  0.025512  0.027122\n",
       "3  Organic Count per User Agent  0.020959  0.022419  0.023944\n",
       "4  Organic MF Agent              0.022451  0.023954  0.025520\n",
       "5  Bandit MF Agent               0.010823  0.011856  0.012952"
      ]
     },
     "execution_count": 20,
     "metadata": {},
     "output_type": "execute_result"
    }
   ],
   "source": [
    "comb_result"
   ]
  },
  {
   "cell_type": "code",
   "execution_count": 21,
   "metadata": {
    "pycharm": {
     "name": "#%%\n"
    }
   },
   "outputs": [
    {
     "data": {
      "image/png": "[encoded data removed]",
      "text/plain": [
       "<Figure size 432x216 with 1 Axes>"
      ]
     },
     "metadata": {
      "image/png": {
       "height": 352,
       "width": 407
      }
     },
     "output_type": "display_data"
    }
   ],
   "source": [
    "fig = plot_verify_agents(comb_result)\n",
    "plt.ylabel('CTR')\n",
    "plt.show()\n",
    "\n",
    "\n",
    "\n",
    "\n"
   ]
  }
 ],
 "metadata": {
  "kernelspec": {
   "display_name": "Python 3",
   "language": "python",
   "name": "python3"
  },
  "language_info": {
   "codemirror_mode": {
    "name": "ipython",
    "version": 3
   },
   "file_extension": ".py",
   "mimetype": "text/x-python",
   "name": "python",
   "nbconvert_exporter": "python",
   "pygments_lexer": "ipython3",
   "version": "3.7.7"
  }
 },
 "nbformat": 4,
 "nbformat_minor": 2
}