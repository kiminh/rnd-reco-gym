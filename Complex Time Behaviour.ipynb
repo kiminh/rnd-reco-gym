{
 "cells": [
  {
   "cell_type": "code",
   "execution_count": 1,
   "metadata": {},
   "outputs": [],
   "source": [
    "import gym, recogym\n",
    "from copy import deepcopy\n",
    "from recogym import env_1_args\n",
    "import matplotlib.pyplot as plt\n",
    "import numpy as np\n",
    "\n",
    "%matplotlib notebook\n",
    "%config InlineBackend.figure_format = 'retina'\n",
    "plt.rcParams['figure.figsize'] = [8, 4]\n",
    "\n",
    "NumberOfUsers = 1\n",
    "NumberOfSamples = 20\n",
    "\n",
    "env_1_args['random_seed'] = 777\n",
    "env_1_args['sigma_omega'] = 1 # Set a big value do diversify products.\n",
    "\n",
    "env = gym.make('reco-gym-v1')\n",
    "env.init_gym(env_1_args)"
   ]
  },
  {
   "cell_type": "markdown",
   "metadata": {
    "pycharm": {}
   },
   "source": [
    "## Tick-Tack Time\n",
    "\n",
    "The most straightforward time interpretation in _RecoGym_ is tick-tack. Thus, if you look at logs of data, you shall find that time is changed incrementally _`+1`_ at each step."
   ]
  },
  {
   "cell_type": "code",
   "execution_count": 2,
   "metadata": {},
   "outputs": [
    {
     "name": "stderr",
     "output_type": "stream",
     "text": [
      "Organic Users: 0it [00:00, ?it/s]\n",
      "Users: 100%|██████████| 1/1 [00:00<00:00,  1.67it/s]\n"
     ]
    }
   ],
   "source": [
    "std_data = deepcopy(env).generate_logs(NumberOfUsers)"
   ]
  },
  {
   "cell_type": "code",
   "execution_count": 3,
   "metadata": {},
   "outputs": [
    {
     "data": {
      "text/plain": "       t  u        z     v     a    c   ps  ps-a\n0    0.0  0  organic     0  <NA>  NaN  NaN  None\n1    1.0  0  organic     0  <NA>  NaN  NaN  None\n2    2.0  0  organic     0  <NA>  NaN  NaN  None\n3    3.0  0  organic     0  <NA>  NaN  NaN  None\n4    4.0  0  organic     0  <NA>  NaN  NaN  None\n5    5.0  0  organic     0  <NA>  NaN  NaN  None\n6    6.0  0  organic     0  <NA>  NaN  NaN  None\n7    7.0  0  organic     7  <NA>  NaN  NaN  None\n8    8.0  0  organic     7  <NA>  NaN  NaN  None\n9    9.0  0  organic     0  <NA>  NaN  NaN  None\n10  10.0  0  organic     1  <NA>  NaN  NaN  None\n11  11.0  0  organic     2  <NA>  NaN  NaN  None\n12  12.0  0   bandit  <NA>     3  0.0  0.1    ()\n13  13.0  0   bandit  <NA>     3  0.0  0.1    ()\n14  14.0  0   bandit  <NA>     8  0.0  0.1    ()\n15  15.0  0   bandit  <NA>     6  0.0  0.1    ()\n16  16.0  0  organic     8  <NA>  NaN  NaN  None\n17  17.0  0  organic     0  <NA>  NaN  NaN  None\n18  18.0  0  organic     0  <NA>  NaN  NaN  None\n19  19.0  0   bandit  <NA>     4  0.0  0.1    ()",
      "text/html": "<div>\n<style scoped>\n    .dataframe tbody tr th:only-of-type {\n        vertical-align: middle;\n    }\n\n    .dataframe tbody tr th {\n        vertical-align: top;\n    }\n\n    .dataframe thead th {\n        text-align: right;\n    }\n</style>\n<table border=\"1\" class=\"dataframe\">\n  <thead>\n    <tr style=\"text-align: right;\">\n      <th></th>\n      <th>t</th>\n      <th>u</th>\n      <th>z</th>\n      <th>v</th>\n      <th>a</th>\n      <th>c</th>\n      <th>ps</th>\n      <th>ps-a</th>\n    </tr>\n  </thead>\n  <tbody>\n    <tr>\n      <th>0</th>\n      <td>0.0</td>\n      <td>0</td>\n      <td>organic</td>\n      <td>0</td>\n      <td>&lt;NA&gt;</td>\n      <td>NaN</td>\n      <td>NaN</td>\n      <td>None</td>\n    </tr>\n    <tr>\n      <th>1</th>\n      <td>1.0</td>\n      <td>0</td>\n      <td>organic</td>\n      <td>0</td>\n      <td>&lt;NA&gt;</td>\n      <td>NaN</td>\n      <td>NaN</td>\n      <td>None</td>\n    </tr>\n    <tr>\n      <th>2</th>\n      <td>2.0</td>\n      <td>0</td>\n      <td>organic</td>\n      <td>0</td>\n      <td>&lt;NA&gt;</td>\n      <td>NaN</td>\n      <td>NaN</td>\n      <td>None</td>\n    </tr>\n    <tr>\n      <th>3</th>\n      <td>3.0</td>\n      <td>0</td>\n      <td>organic</td>\n      <td>0</td>\n      <td>&lt;NA&gt;</td>\n      <td>NaN</td>\n      <td>NaN</td>\n      <td>None</td>\n    </tr>\n    <tr>\n      <th>4</th>\n      <td>4.0</td>\n      <td>0</td>\n      <td>organic</td>\n      <td>0</td>\n      <td>&lt;NA&gt;</td>\n      <td>NaN</td>\n      <td>NaN</td>\n      <td>None</td>\n    </tr>\n    <tr>\n      <th>5</th>\n      <td>5.0</td>\n      <td>0</td>\n      <td>organic</td>\n      <td>0</td>\n      <td>&lt;NA&gt;</td>\n      <td>NaN</td>\n      <td>NaN</td>\n      <td>None</td>\n    </tr>\n    <tr>\n      <th>6</th>\n      <td>6.0</td>\n      <td>0</td>\n      <td>organic</td>\n      <td>0</td>\n      <td>&lt;NA&gt;</td>\n      <td>NaN</td>\n      <td>NaN</td>\n      <td>None</td>\n    </tr>\n    <tr>\n      <th>7</th>\n      <td>7.0</td>\n      <td>0</td>\n      <td>organic</td>\n      <td>7</td>\n      <td>&lt;NA&gt;</td>\n      <td>NaN</td>\n      <td>NaN</td>\n      <td>None</td>\n    </tr>\n    <tr>\n      <th>8</th>\n      <td>8.0</td>\n      <td>0</td>\n      <td>organic</td>\n      <td>7</td>\n      <td>&lt;NA&gt;</td>\n      <td>NaN</td>\n      <td>NaN</td>\n      <td>None</td>\n    </tr>\n    <tr>\n      <th>9</th>\n      <td>9.0</td>\n      <td>0</td>\n      <td>organic</td>\n      <td>0</td>\n      <td>&lt;NA&gt;</td>\n      <td>NaN</td>\n      <td>NaN</td>\n      <td>None</td>\n    </tr>\n    <tr>\n      <th>10</th>\n      <td>10.0</td>\n      <td>0</td>\n      <td>organic</td>\n      <td>1</td>\n      <td>&lt;NA&gt;</td>\n      <td>NaN</td>\n      <td>NaN</td>\n      <td>None</td>\n    </tr>\n    <tr>\n      <th>11</th>\n      <td>11.0</td>\n      <td>0</td>\n      <td>organic</td>\n      <td>2</td>\n      <td>&lt;NA&gt;</td>\n      <td>NaN</td>\n      <td>NaN</td>\n      <td>None</td>\n    </tr>\n    <tr>\n      <th>12</th>\n      <td>12.0</td>\n      <td>0</td>\n      <td>bandit</td>\n      <td>&lt;NA&gt;</td>\n      <td>3</td>\n      <td>0.0</td>\n      <td>0.1</td>\n      <td>()</td>\n    </tr>\n    <tr>\n      <th>13</th>\n      <td>13.0</td>\n      <td>0</td>\n      <td>bandit</td>\n      <td>&lt;NA&gt;</td>\n      <td>3</td>\n      <td>0.0</td>\n      <td>0.1</td>\n      <td>()</td>\n    </tr>\n    <tr>\n      <th>14</th>\n      <td>14.0</td>\n      <td>0</td>\n      <td>bandit</td>\n      <td>&lt;NA&gt;</td>\n      <td>8</td>\n      <td>0.0</td>\n      <td>0.1</td>\n      <td>()</td>\n    </tr>\n    <tr>\n      <th>15</th>\n      <td>15.0</td>\n      <td>0</td>\n      <td>bandit</td>\n      <td>&lt;NA&gt;</td>\n      <td>6</td>\n      <td>0.0</td>\n      <td>0.1</td>\n      <td>()</td>\n    </tr>\n    <tr>\n      <th>16</th>\n      <td>16.0</td>\n      <td>0</td>\n      <td>organic</td>\n      <td>8</td>\n      <td>&lt;NA&gt;</td>\n      <td>NaN</td>\n      <td>NaN</td>\n      <td>None</td>\n    </tr>\n    <tr>\n      <th>17</th>\n      <td>17.0</td>\n      <td>0</td>\n      <td>organic</td>\n      <td>0</td>\n      <td>&lt;NA&gt;</td>\n      <td>NaN</td>\n      <td>NaN</td>\n      <td>None</td>\n    </tr>\n    <tr>\n      <th>18</th>\n      <td>18.0</td>\n      <td>0</td>\n      <td>organic</td>\n      <td>0</td>\n      <td>&lt;NA&gt;</td>\n      <td>NaN</td>\n      <td>NaN</td>\n      <td>None</td>\n    </tr>\n    <tr>\n      <th>19</th>\n      <td>19.0</td>\n      <td>0</td>\n      <td>bandit</td>\n      <td>&lt;NA&gt;</td>\n      <td>4</td>\n      <td>0.0</td>\n      <td>0.1</td>\n      <td>()</td>\n    </tr>\n  </tbody>\n</table>\n</div>"
     },
     "execution_count": 3,
     "metadata": {},
     "output_type": "execute_result"
    }
   ],
   "source": [
    "std_data[:NumberOfSamples]"
   ]
  },
  {
   "cell_type": "code",
   "execution_count": 4,
   "metadata": {},
   "outputs": [
    {
     "name": "stdout",
     "output_type": "stream",
     "text": [
      "Data Shape:\n",
      " (112, 8)\n"
     ]
    }
   ],
   "source": [
    "print(\"Data Shape:\\n\", std_data.shape)"
   ]
  },
  {
   "cell_type": "markdown",
   "metadata": {
    "pycharm": {}
   },
   "source": [
    "*Note:* the column _**`t`**_ represents the time of the event."
   ]
  },
  {
   "cell_type": "markdown",
   "metadata": {
    "pycharm": {}
   },
   "source": [
    "## Normally Distributed Time Changes\n",
    "\n",
    "For the _Normally Distributed Time Changes_, the time is changed incrementally by the value in the range _`[0; 1]`_.\n",
    "\n",
    "By default, _Normally Distributed Time Changes_ uses these values for drawing _Normal Distribution_:\n",
    "* $\\mu=0$\n",
    "* $\\sigma=1$"
   ]
  },
  {
   "cell_type": "code",
   "execution_count": 5,
   "metadata": {},
   "outputs": [],
   "source": [
    "from recogym import Configuration\n",
    "\n",
    "from recogym import NormalTimeGenerator\n",
    "\n",
    "normal_time_env_01 = {\n",
    "    **env_1_args,\n",
    "    'time_generator': NormalTimeGenerator(Configuration(env_1_args))\n",
    "}\n",
    "\n",
    "env.init_gym(normal_time_env_01)"
   ]
  },
  {
   "cell_type": "code",
   "execution_count": 6,
   "metadata": {},
   "outputs": [
    {
     "name": "stderr",
     "output_type": "stream",
     "text": [
      "Organic Users: 0it [00:00, ?it/s]\n",
      "Users: 100%|██████████| 1/1 [00:00<00:00, 20.69it/s]\n"
     ]
    }
   ],
   "source": [
    "data_01 = deepcopy(env).generate_logs(NumberOfUsers)"
   ]
  },
  {
   "cell_type": "code",
   "execution_count": 7,
   "metadata": {},
   "outputs": [
    {
     "data": {
      "text/plain": "            t  u        z     v     a    c   ps  ps-a\n0    0.000000  0  organic     0  <NA>  NaN  NaN  None\n1    0.468209  0  organic     0  <NA>  NaN  NaN  None\n2    1.291034  0  organic     0  <NA>  NaN  NaN  None\n3    1.356414  0  organic     0  <NA>  NaN  NaN  None\n4    2.069776  0  organic     0  <NA>  NaN  NaN  None\n5    2.976127  0  organic     0  <NA>  NaN  NaN  None\n6    3.742363  0  organic     0  <NA>  NaN  NaN  None\n7    4.568418  0  organic     7  <NA>  NaN  NaN  None\n8    5.892100  0  organic     7  <NA>  NaN  NaN  None\n9    7.644545  0  organic     8  <NA>  NaN  NaN  None\n10   8.646994  0  organic     8  <NA>  NaN  NaN  None\n11   9.191803  0  organic     2  <NA>  NaN  NaN  None\n12  11.086964  0   bandit  <NA>     3  0.0  0.1    ()\n13  11.856321  0   bandit  <NA>     3  0.0  0.1    ()\n14  13.259418  0   bandit  <NA>     8  0.0  0.1    ()\n15  13.891885  0   bandit  <NA>     6  0.0  0.1    ()\n16  14.450759  0  organic     8  <NA>  NaN  NaN  None\n17  15.683990  0  organic     1  <NA>  NaN  NaN  None\n18  16.123493  0  organic     0  <NA>  NaN  NaN  None\n19  17.038280  0   bandit  <NA>     4  0.0  0.1    ()",
      "text/html": "<div>\n<style scoped>\n    .dataframe tbody tr th:only-of-type {\n        vertical-align: middle;\n    }\n\n    .dataframe tbody tr th {\n        vertical-align: top;\n    }\n\n    .dataframe thead th {\n        text-align: right;\n    }\n</style>\n<table border=\"1\" class=\"dataframe\">\n  <thead>\n    <tr style=\"text-align: right;\">\n      <th></th>\n      <th>t</th>\n      <th>u</th>\n      <th>z</th>\n      <th>v</th>\n      <th>a</th>\n      <th>c</th>\n      <th>ps</th>\n      <th>ps-a</th>\n    </tr>\n  </thead>\n  <tbody>\n    <tr>\n      <th>0</th>\n      <td>0.000000</td>\n      <td>0</td>\n      <td>organic</td>\n      <td>0</td>\n      <td>&lt;NA&gt;</td>\n      <td>NaN</td>\n      <td>NaN</td>\n      <td>None</td>\n    </tr>\n    <tr>\n      <th>1</th>\n      <td>0.468209</td>\n      <td>0</td>\n      <td>organic</td>\n      <td>0</td>\n      <td>&lt;NA&gt;</td>\n      <td>NaN</td>\n      <td>NaN</td>\n      <td>None</td>\n    </tr>\n    <tr>\n      <th>2</th>\n      <td>1.291034</td>\n      <td>0</td>\n      <td>organic</td>\n      <td>0</td>\n      <td>&lt;NA&gt;</td>\n      <td>NaN</td>\n      <td>NaN</td>\n      <td>None</td>\n    </tr>\n    <tr>\n      <th>3</th>\n      <td>1.356414</td>\n      <td>0</td>\n      <td>organic</td>\n      <td>0</td>\n      <td>&lt;NA&gt;</td>\n      <td>NaN</td>\n      <td>NaN</td>\n      <td>None</td>\n    </tr>\n    <tr>\n      <th>4</th>\n      <td>2.069776</td>\n      <td>0</td>\n      <td>organic</td>\n      <td>0</td>\n      <td>&lt;NA&gt;</td>\n      <td>NaN</td>\n      <td>NaN</td>\n      <td>None</td>\n    </tr>\n    <tr>\n      <th>5</th>\n      <td>2.976127</td>\n      <td>0</td>\n      <td>organic</td>\n      <td>0</td>\n      <td>&lt;NA&gt;</td>\n      <td>NaN</td>\n      <td>NaN</td>\n      <td>None</td>\n    </tr>\n    <tr>\n      <th>6</th>\n      <td>3.742363</td>\n      <td>0</td>\n      <td>organic</td>\n      <td>0</td>\n      <td>&lt;NA&gt;</td>\n      <td>NaN</td>\n      <td>NaN</td>\n      <td>None</td>\n    </tr>\n    <tr>\n      <th>7</th>\n      <td>4.568418</td>\n      <td>0</td>\n      <td>organic</td>\n      <td>7</td>\n      <td>&lt;NA&gt;</td>\n      <td>NaN</td>\n      <td>NaN</td>\n      <td>None</td>\n    </tr>\n    <tr>\n      <th>8</th>\n      <td>5.892100</td>\n      <td>0</td>\n      <td>organic</td>\n      <td>7</td>\n      <td>&lt;NA&gt;</td>\n      <td>NaN</td>\n      <td>NaN</td>\n      <td>None</td>\n    </tr>\n    <tr>\n      <th>9</th>\n      <td>7.644545</td>\n      <td>0</td>\n      <td>organic</td>\n      <td>8</td>\n      <td>&lt;NA&gt;</td>\n      <td>NaN</td>\n      <td>NaN</td>\n      <td>None</td>\n    </tr>\n    <tr>\n      <th>10</th>\n      <td>8.646994</td>\n      <td>0</td>\n      <td>organic</td>\n      <td>8</td>\n      <td>&lt;NA&gt;</td>\n      <td>NaN</td>\n      <td>NaN</td>\n      <td>None</td>\n    </tr>\n    <tr>\n      <th>11</th>\n      <td>9.191803</td>\n      <td>0</td>\n      <td>organic</td>\n      <td>2</td>\n      <td>&lt;NA&gt;</td>\n      <td>NaN</td>\n      <td>NaN</td>\n      <td>None</td>\n    </tr>\n    <tr>\n      <th>12</th>\n      <td>11.086964</td>\n      <td>0</td>\n      <td>bandit</td>\n      <td>&lt;NA&gt;</td>\n      <td>3</td>\n      <td>0.0</td>\n      <td>0.1</td>\n      <td>()</td>\n    </tr>\n    <tr>\n      <th>13</th>\n      <td>11.856321</td>\n      <td>0</td>\n      <td>bandit</td>\n      <td>&lt;NA&gt;</td>\n      <td>3</td>\n      <td>0.0</td>\n      <td>0.1</td>\n      <td>()</td>\n    </tr>\n    <tr>\n      <th>14</th>\n      <td>13.259418</td>\n      <td>0</td>\n      <td>bandit</td>\n      <td>&lt;NA&gt;</td>\n      <td>8</td>\n      <td>0.0</td>\n      <td>0.1</td>\n      <td>()</td>\n    </tr>\n    <tr>\n      <th>15</th>\n      <td>13.891885</td>\n      <td>0</td>\n      <td>bandit</td>\n      <td>&lt;NA&gt;</td>\n      <td>6</td>\n      <td>0.0</td>\n      <td>0.1</td>\n      <td>()</td>\n    </tr>\n    <tr>\n      <th>16</th>\n      <td>14.450759</td>\n      <td>0</td>\n      <td>organic</td>\n      <td>8</td>\n      <td>&lt;NA&gt;</td>\n      <td>NaN</td>\n      <td>NaN</td>\n      <td>None</td>\n    </tr>\n    <tr>\n      <th>17</th>\n      <td>15.683990</td>\n      <td>0</td>\n      <td>organic</td>\n      <td>1</td>\n      <td>&lt;NA&gt;</td>\n      <td>NaN</td>\n      <td>NaN</td>\n      <td>None</td>\n    </tr>\n    <tr>\n      <th>18</th>\n      <td>16.123493</td>\n      <td>0</td>\n      <td>organic</td>\n      <td>0</td>\n      <td>&lt;NA&gt;</td>\n      <td>NaN</td>\n      <td>NaN</td>\n      <td>None</td>\n    </tr>\n    <tr>\n      <th>19</th>\n      <td>17.038280</td>\n      <td>0</td>\n      <td>bandit</td>\n      <td>&lt;NA&gt;</td>\n      <td>4</td>\n      <td>0.0</td>\n      <td>0.1</td>\n      <td>()</td>\n    </tr>\n  </tbody>\n</table>\n</div>"
     },
     "execution_count": 7,
     "metadata": {},
     "output_type": "execute_result"
    }
   ],
   "source": [
    "data_01[:NumberOfSamples]"
   ]
  },
  {
   "cell_type": "code",
   "execution_count": 8,
   "metadata": {},
   "outputs": [
    {
     "name": "stdout",
     "output_type": "stream",
     "text": [
      "Data Shape:\n",
      " (112, 8)\n"
     ]
    }
   ],
   "source": [
    "print(\"Data Shape:\\n\", data_01.shape)"
   ]
  },
  {
   "cell_type": "markdown",
   "metadata": {
    "pycharm": {}
   },
   "source": [
    "For a more significant value of $\\mu$ but small $\\sigma$, we shall see that the time advances faster."
   ]
  },
  {
   "cell_type": "code",
   "execution_count": 9,
   "metadata": {},
   "outputs": [],
   "source": [
    "normal_time_env_02 = {\n",
    "    **env_1_args,\n",
    "    'time_generator': NormalTimeGenerator(Configuration({\n",
    "        **env_1_args,\n",
    "        'normal_time_mu': 10,\n",
    "        'normal_time_sigma': 0,\n",
    "    }))\n",
    "}\n",
    "\n",
    "env.init_gym(normal_time_env_02)"
   ]
  },
  {
   "cell_type": "code",
   "execution_count": 10,
   "metadata": {},
   "outputs": [
    {
     "name": "stderr",
     "output_type": "stream",
     "text": [
      "Organic Users: 0it [00:00, ?it/s]\n",
      "Users: 100%|██████████| 1/1 [00:00<00:00, 15.54it/s]\n"
     ]
    }
   ],
   "source": [
    "data_02 = deepcopy(env).generate_logs(NumberOfUsers)"
   ]
  },
  {
   "cell_type": "code",
   "execution_count": 11,
   "metadata": {},
   "outputs": [
    {
     "data": {
      "text/plain": "        t  u        z     v     a    c   ps  ps-a\n0     0.0  0  organic     0  <NA>  NaN  NaN  None\n1    10.0  0  organic     0  <NA>  NaN  NaN  None\n2    20.0  0  organic     0  <NA>  NaN  NaN  None\n3    30.0  0  organic     9  <NA>  NaN  NaN  None\n4    40.0  0  organic     0  <NA>  NaN  NaN  None\n5    50.0  0  organic     7  <NA>  NaN  NaN  None\n6    60.0  0  organic     7  <NA>  NaN  NaN  None\n7    70.0  0  organic     7  <NA>  NaN  NaN  None\n8    80.0  0  organic     7  <NA>  NaN  NaN  None\n9    90.0  0  organic     8  <NA>  NaN  NaN  None\n10  100.0  0  organic     8  <NA>  NaN  NaN  None\n11  110.0  0  organic     8  <NA>  NaN  NaN  None\n12  120.0  0   bandit  <NA>     3  0.0  0.1    ()\n13  130.0  0   bandit  <NA>     3  0.0  0.1    ()\n14  140.0  0   bandit  <NA>     8  0.0  0.1    ()\n15  150.0  0   bandit  <NA>     6  0.0  0.1    ()\n16  160.0  0  organic     8  <NA>  NaN  NaN  None\n17  170.0  0  organic     8  <NA>  NaN  NaN  None\n18  180.0  0  organic     8  <NA>  NaN  NaN  None\n19  190.0  0   bandit  <NA>     4  0.0  0.1    ()",
      "text/html": "<div>\n<style scoped>\n    .dataframe tbody tr th:only-of-type {\n        vertical-align: middle;\n    }\n\n    .dataframe tbody tr th {\n        vertical-align: top;\n    }\n\n    .dataframe thead th {\n        text-align: right;\n    }\n</style>\n<table border=\"1\" class=\"dataframe\">\n  <thead>\n    <tr style=\"text-align: right;\">\n      <th></th>\n      <th>t</th>\n      <th>u</th>\n      <th>z</th>\n      <th>v</th>\n      <th>a</th>\n      <th>c</th>\n      <th>ps</th>\n      <th>ps-a</th>\n    </tr>\n  </thead>\n  <tbody>\n    <tr>\n      <th>0</th>\n      <td>0.0</td>\n      <td>0</td>\n      <td>organic</td>\n      <td>0</td>\n      <td>&lt;NA&gt;</td>\n      <td>NaN</td>\n      <td>NaN</td>\n      <td>None</td>\n    </tr>\n    <tr>\n      <th>1</th>\n      <td>10.0</td>\n      <td>0</td>\n      <td>organic</td>\n      <td>0</td>\n      <td>&lt;NA&gt;</td>\n      <td>NaN</td>\n      <td>NaN</td>\n      <td>None</td>\n    </tr>\n    <tr>\n      <th>2</th>\n      <td>20.0</td>\n      <td>0</td>\n      <td>organic</td>\n      <td>0</td>\n      <td>&lt;NA&gt;</td>\n      <td>NaN</td>\n      <td>NaN</td>\n      <td>None</td>\n    </tr>\n    <tr>\n      <th>3</th>\n      <td>30.0</td>\n      <td>0</td>\n      <td>organic</td>\n      <td>9</td>\n      <td>&lt;NA&gt;</td>\n      <td>NaN</td>\n      <td>NaN</td>\n      <td>None</td>\n    </tr>\n    <tr>\n      <th>4</th>\n      <td>40.0</td>\n      <td>0</td>\n      <td>organic</td>\n      <td>0</td>\n      <td>&lt;NA&gt;</td>\n      <td>NaN</td>\n      <td>NaN</td>\n      <td>None</td>\n    </tr>\n    <tr>\n      <th>5</th>\n      <td>50.0</td>\n      <td>0</td>\n      <td>organic</td>\n      <td>7</td>\n      <td>&lt;NA&gt;</td>\n      <td>NaN</td>\n      <td>NaN</td>\n      <td>None</td>\n    </tr>\n    <tr>\n      <th>6</th>\n      <td>60.0</td>\n      <td>0</td>\n      <td>organic</td>\n      <td>7</td>\n      <td>&lt;NA&gt;</td>\n      <td>NaN</td>\n      <td>NaN</td>\n      <td>None</td>\n    </tr>\n    <tr>\n      <th>7</th>\n      <td>70.0</td>\n      <td>0</td>\n      <td>organic</td>\n      <td>7</td>\n      <td>&lt;NA&gt;</td>\n      <td>NaN</td>\n      <td>NaN</td>\n      <td>None</td>\n    </tr>\n    <tr>\n      <th>8</th>\n      <td>80.0</td>\n      <td>0</td>\n      <td>organic</td>\n      <td>7</td>\n      <td>&lt;NA&gt;</td>\n      <td>NaN</td>\n      <td>NaN</td>\n      <td>None</td>\n    </tr>\n    <tr>\n      <th>9</th>\n      <td>90.0</td>\n      <td>0</td>\n      <td>organic</td>\n      <td>8</td>\n      <td>&lt;NA&gt;</td>\n      <td>NaN</td>\n      <td>NaN</td>\n      <td>None</td>\n    </tr>\n    <tr>\n      <th>10</th>\n      <td>100.0</td>\n      <td>0</td>\n      <td>organic</td>\n      <td>8</td>\n      <td>&lt;NA&gt;</td>\n      <td>NaN</td>\n      <td>NaN</td>\n      <td>None</td>\n    </tr>\n    <tr>\n      <th>11</th>\n      <td>110.0</td>\n      <td>0</td>\n      <td>organic</td>\n      <td>8</td>\n      <td>&lt;NA&gt;</td>\n      <td>NaN</td>\n      <td>NaN</td>\n      <td>None</td>\n    </tr>\n    <tr>\n      <th>12</th>\n      <td>120.0</td>\n      <td>0</td>\n      <td>bandit</td>\n      <td>&lt;NA&gt;</td>\n      <td>3</td>\n      <td>0.0</td>\n      <td>0.1</td>\n      <td>()</td>\n    </tr>\n    <tr>\n      <th>13</th>\n      <td>130.0</td>\n      <td>0</td>\n      <td>bandit</td>\n      <td>&lt;NA&gt;</td>\n      <td>3</td>\n      <td>0.0</td>\n      <td>0.1</td>\n      <td>()</td>\n    </tr>\n    <tr>\n      <th>14</th>\n      <td>140.0</td>\n      <td>0</td>\n      <td>bandit</td>\n      <td>&lt;NA&gt;</td>\n      <td>8</td>\n      <td>0.0</td>\n      <td>0.1</td>\n      <td>()</td>\n    </tr>\n    <tr>\n      <th>15</th>\n      <td>150.0</td>\n      <td>0</td>\n      <td>bandit</td>\n      <td>&lt;NA&gt;</td>\n      <td>6</td>\n      <td>0.0</td>\n      <td>0.1</td>\n      <td>()</td>\n    </tr>\n    <tr>\n      <th>16</th>\n      <td>160.0</td>\n      <td>0</td>\n      <td>organic</td>\n      <td>8</td>\n      <td>&lt;NA&gt;</td>\n      <td>NaN</td>\n      <td>NaN</td>\n      <td>None</td>\n    </tr>\n    <tr>\n      <th>17</th>\n      <td>170.0</td>\n      <td>0</td>\n      <td>organic</td>\n      <td>8</td>\n      <td>&lt;NA&gt;</td>\n      <td>NaN</td>\n      <td>NaN</td>\n      <td>None</td>\n    </tr>\n    <tr>\n      <th>18</th>\n      <td>180.0</td>\n      <td>0</td>\n      <td>organic</td>\n      <td>8</td>\n      <td>&lt;NA&gt;</td>\n      <td>NaN</td>\n      <td>NaN</td>\n      <td>None</td>\n    </tr>\n    <tr>\n      <th>19</th>\n      <td>190.0</td>\n      <td>0</td>\n      <td>bandit</td>\n      <td>&lt;NA&gt;</td>\n      <td>4</td>\n      <td>0.0</td>\n      <td>0.1</td>\n      <td>()</td>\n    </tr>\n  </tbody>\n</table>\n</div>"
     },
     "execution_count": 11,
     "metadata": {},
     "output_type": "execute_result"
    }
   ],
   "source": [
    "data_02[:NumberOfSamples]"
   ]
  },
  {
   "cell_type": "code",
   "execution_count": 12,
   "metadata": {},
   "outputs": [
    {
     "name": "stdout",
     "output_type": "stream",
     "text": [
      "Data Shape:\n",
      " (112, 8)\n"
     ]
    }
   ],
   "source": [
    "print(\"Data Shape:\\n\", data_02.shape)"
   ]
  },
  {
   "cell_type": "markdown",
   "metadata": {
    "pycharm": {}
   },
   "source": [
    "Here, you shall find yet another extreme when $\\mu$ is quite small, but $\\sigma$ is big."
   ]
  },
  {
   "cell_type": "code",
   "execution_count": 13,
   "metadata": {},
   "outputs": [],
   "source": [
    "normal_time_env_03 = {\n",
    "    **env_1_args,\n",
    "    'time_generator': NormalTimeGenerator(Configuration({\n",
    "        **env_1_args,\n",
    "        'normal_time_mu': 0.1,\n",
    "        'normal_time_sigma': 10,\n",
    "    }))\n",
    "}\n",
    "\n",
    "env.init_gym(normal_time_env_03)"
   ]
  },
  {
   "cell_type": "code",
   "execution_count": 14,
   "metadata": {},
   "outputs": [
    {
     "name": "stderr",
     "output_type": "stream",
     "text": [
      "Organic Users: 0it [00:00, ?it/s]\n",
      "Users: 100%|██████████| 1/1 [00:00<00:00, 28.07it/s]\n"
     ]
    }
   ],
   "source": [
    "data_03 = deepcopy(env).generate_logs(NumberOfUsers)"
   ]
  },
  {
   "cell_type": "code",
   "execution_count": 15,
   "metadata": {},
   "outputs": [
    {
     "data": {
      "text/plain": "             t  u        z     v     a    c   ps  ps-a\n0     0.000000  0  organic     0  <NA>  NaN  NaN  None\n1     4.582088  0  organic     0  <NA>  NaN  NaN  None\n2    12.710337  0  organic     0  <NA>  NaN  NaN  None\n3    13.264137  0  organic     0  <NA>  NaN  NaN  None\n4    20.297756  0  organic     0  <NA>  NaN  NaN  None\n5    29.461266  0  organic     7  <NA>  NaN  NaN  None\n6    37.223633  0  organic     7  <NA>  NaN  NaN  None\n7    45.584175  0  organic     7  <NA>  NaN  NaN  None\n8    58.721001  0  organic     7  <NA>  NaN  NaN  None\n9    76.145447  0  organic     8  <NA>  NaN  NaN  None\n10   86.269936  0  organic     8  <NA>  NaN  NaN  None\n11   91.818031  0  organic     8  <NA>  NaN  NaN  None\n12  110.869644  0   bandit  <NA>     3  0.0  0.1    ()\n13  118.463219  0   bandit  <NA>     3  0.0  0.1    ()\n14  132.394180  0   bandit  <NA>     8  0.0  0.1    ()\n15  138.618851  0   bandit  <NA>     6  0.0  0.1    ()\n16  144.107590  0  organic     8  <NA>  NaN  NaN  None\n17  156.339905  0  organic     1  <NA>  NaN  NaN  None\n18  160.634933  0  organic     1  <NA>  NaN  NaN  None\n19  169.882812  0   bandit  <NA>     4  0.0  0.1    ()",
      "text/html": "<div>\n<style scoped>\n    .dataframe tbody tr th:only-of-type {\n        vertical-align: middle;\n    }\n\n    .dataframe tbody tr th {\n        vertical-align: top;\n    }\n\n    .dataframe thead th {\n        text-align: right;\n    }\n</style>\n<table border=\"1\" class=\"dataframe\">\n  <thead>\n    <tr style=\"text-align: right;\">\n      <th></th>\n      <th>t</th>\n      <th>u</th>\n      <th>z</th>\n      <th>v</th>\n      <th>a</th>\n      <th>c</th>\n      <th>ps</th>\n      <th>ps-a</th>\n    </tr>\n  </thead>\n  <tbody>\n    <tr>\n      <th>0</th>\n      <td>0.000000</td>\n      <td>0</td>\n      <td>organic</td>\n      <td>0</td>\n      <td>&lt;NA&gt;</td>\n      <td>NaN</td>\n      <td>NaN</td>\n      <td>None</td>\n    </tr>\n    <tr>\n      <th>1</th>\n      <td>4.582088</td>\n      <td>0</td>\n      <td>organic</td>\n      <td>0</td>\n      <td>&lt;NA&gt;</td>\n      <td>NaN</td>\n      <td>NaN</td>\n      <td>None</td>\n    </tr>\n    <tr>\n      <th>2</th>\n      <td>12.710337</td>\n      <td>0</td>\n      <td>organic</td>\n      <td>0</td>\n      <td>&lt;NA&gt;</td>\n      <td>NaN</td>\n      <td>NaN</td>\n      <td>None</td>\n    </tr>\n    <tr>\n      <th>3</th>\n      <td>13.264137</td>\n      <td>0</td>\n      <td>organic</td>\n      <td>0</td>\n      <td>&lt;NA&gt;</td>\n      <td>NaN</td>\n      <td>NaN</td>\n      <td>None</td>\n    </tr>\n    <tr>\n      <th>4</th>\n      <td>20.297756</td>\n      <td>0</td>\n      <td>organic</td>\n      <td>0</td>\n      <td>&lt;NA&gt;</td>\n      <td>NaN</td>\n      <td>NaN</td>\n      <td>None</td>\n    </tr>\n    <tr>\n      <th>5</th>\n      <td>29.461266</td>\n      <td>0</td>\n      <td>organic</td>\n      <td>7</td>\n      <td>&lt;NA&gt;</td>\n      <td>NaN</td>\n      <td>NaN</td>\n      <td>None</td>\n    </tr>\n    <tr>\n      <th>6</th>\n      <td>37.223633</td>\n      <td>0</td>\n      <td>organic</td>\n      <td>7</td>\n      <td>&lt;NA&gt;</td>\n      <td>NaN</td>\n      <td>NaN</td>\n      <td>None</td>\n    </tr>\n    <tr>\n      <th>7</th>\n      <td>45.584175</td>\n      <td>0</td>\n      <td>organic</td>\n      <td>7</td>\n      <td>&lt;NA&gt;</td>\n      <td>NaN</td>\n      <td>NaN</td>\n      <td>None</td>\n    </tr>\n    <tr>\n      <th>8</th>\n      <td>58.721001</td>\n      <td>0</td>\n      <td>organic</td>\n      <td>7</td>\n      <td>&lt;NA&gt;</td>\n      <td>NaN</td>\n      <td>NaN</td>\n      <td>None</td>\n    </tr>\n    <tr>\n      <th>9</th>\n      <td>76.145447</td>\n      <td>0</td>\n      <td>organic</td>\n      <td>8</td>\n      <td>&lt;NA&gt;</td>\n      <td>NaN</td>\n      <td>NaN</td>\n      <td>None</td>\n    </tr>\n    <tr>\n      <th>10</th>\n      <td>86.269936</td>\n      <td>0</td>\n      <td>organic</td>\n      <td>8</td>\n      <td>&lt;NA&gt;</td>\n      <td>NaN</td>\n      <td>NaN</td>\n      <td>None</td>\n    </tr>\n    <tr>\n      <th>11</th>\n      <td>91.818031</td>\n      <td>0</td>\n      <td>organic</td>\n      <td>8</td>\n      <td>&lt;NA&gt;</td>\n      <td>NaN</td>\n      <td>NaN</td>\n      <td>None</td>\n    </tr>\n    <tr>\n      <th>12</th>\n      <td>110.869644</td>\n      <td>0</td>\n      <td>bandit</td>\n      <td>&lt;NA&gt;</td>\n      <td>3</td>\n      <td>0.0</td>\n      <td>0.1</td>\n      <td>()</td>\n    </tr>\n    <tr>\n      <th>13</th>\n      <td>118.463219</td>\n      <td>0</td>\n      <td>bandit</td>\n      <td>&lt;NA&gt;</td>\n      <td>3</td>\n      <td>0.0</td>\n      <td>0.1</td>\n      <td>()</td>\n    </tr>\n    <tr>\n      <th>14</th>\n      <td>132.394180</td>\n      <td>0</td>\n      <td>bandit</td>\n      <td>&lt;NA&gt;</td>\n      <td>8</td>\n      <td>0.0</td>\n      <td>0.1</td>\n      <td>()</td>\n    </tr>\n    <tr>\n      <th>15</th>\n      <td>138.618851</td>\n      <td>0</td>\n      <td>bandit</td>\n      <td>&lt;NA&gt;</td>\n      <td>6</td>\n      <td>0.0</td>\n      <td>0.1</td>\n      <td>()</td>\n    </tr>\n    <tr>\n      <th>16</th>\n      <td>144.107590</td>\n      <td>0</td>\n      <td>organic</td>\n      <td>8</td>\n      <td>&lt;NA&gt;</td>\n      <td>NaN</td>\n      <td>NaN</td>\n      <td>None</td>\n    </tr>\n    <tr>\n      <th>17</th>\n      <td>156.339905</td>\n      <td>0</td>\n      <td>organic</td>\n      <td>1</td>\n      <td>&lt;NA&gt;</td>\n      <td>NaN</td>\n      <td>NaN</td>\n      <td>None</td>\n    </tr>\n    <tr>\n      <th>18</th>\n      <td>160.634933</td>\n      <td>0</td>\n      <td>organic</td>\n      <td>1</td>\n      <td>&lt;NA&gt;</td>\n      <td>NaN</td>\n      <td>NaN</td>\n      <td>None</td>\n    </tr>\n    <tr>\n      <th>19</th>\n      <td>169.882812</td>\n      <td>0</td>\n      <td>bandit</td>\n      <td>&lt;NA&gt;</td>\n      <td>4</td>\n      <td>0.0</td>\n      <td>0.1</td>\n      <td>()</td>\n    </tr>\n  </tbody>\n</table>\n</div>"
     },
     "execution_count": 15,
     "metadata": {},
     "output_type": "execute_result"
    }
   ],
   "source": [
    "data_03[:NumberOfSamples]"
   ]
  },
  {
   "cell_type": "code",
   "execution_count": 16,
   "metadata": {},
   "outputs": [
    {
     "name": "stdout",
     "output_type": "stream",
     "text": [
      "Data Shape:\n",
      " (112, 8)\n"
     ]
    }
   ],
   "source": [
    "print(\"Data Shape:\\n\", data_03.shape)"
   ]
  },
  {
   "cell_type": "markdown",
   "metadata": {
    "pycharm": {}
   },
   "source": [
    "Finally, let's analyse the environment where $\\Omega_{\\sigma}$ is changed _**both**_ for _Organic_ and _Bandit_ events with _Normally Distributed Time Changes_."
   ]
  },
  {
   "cell_type": "code",
   "execution_count": 17,
   "metadata": {},
   "outputs": [],
   "source": [
    "normal_time_env_04 = {\n",
    "    **env_1_args,\n",
    "    'change_omega_for_bandits': True,\n",
    "    'time_generator': NormalTimeGenerator(Configuration({\n",
    "        **env_1_args,\n",
    "        'normal_time_mu': 1,\n",
    "        'normal_time_sigma': 1,\n",
    "    })),\n",
    "}\n",
    "\n",
    "env.init_gym(normal_time_env_04)"
   ]
  },
  {
   "cell_type": "code",
   "execution_count": 18,
   "metadata": {},
   "outputs": [
    {
     "name": "stderr",
     "output_type": "stream",
     "text": [
      "Organic Users: 0it [00:00, ?it/s]\n",
      "Users: 100%|██████████| 1/1 [00:00<00:00, 46.94it/s]\n"
     ]
    }
   ],
   "source": [
    "data_04 = deepcopy(env).generate_logs(NumberOfUsers)"
   ]
  },
  {
   "cell_type": "code",
   "execution_count": 19,
   "metadata": {},
   "outputs": [
    {
     "data": {
      "text/plain": "            t  u        z     v     a    c   ps  ps-a\n0    0.000000  0  organic     0  <NA>  NaN  NaN  None\n1    0.531791  0  organic     0  <NA>  NaN  NaN  None\n2    0.708966  0  organic     0  <NA>  NaN  NaN  None\n3    1.643586  0  organic     0  <NA>  NaN  NaN  None\n4    1.930224  0  organic     0  <NA>  NaN  NaN  None\n5    3.836575  0  organic     7  <NA>  NaN  NaN  None\n6    5.602812  0  organic     8  <NA>  NaN  NaN  None\n7    7.428866  0  organic     7  <NA>  NaN  NaN  None\n8    7.752549  0  organic     8  <NA>  NaN  NaN  None\n9    8.504993  0  organic     8  <NA>  NaN  NaN  None\n10  10.507442  0  organic     8  <NA>  NaN  NaN  None\n11  12.052252  0  organic     8  <NA>  NaN  NaN  None\n12  14.947412  0   bandit  <NA>     3  0.0  0.1    ()\n13  15.178056  0   bandit  <NA>     4  0.0  0.1    ()\n14  15.581151  0   bandit  <NA>     8  0.0  0.1    ()\n15  15.948684  0   bandit  <NA>     2  0.0  0.1    ()\n16  16.389811  0   bandit  <NA>     9  0.0  0.1    ()\n17  16.623041  0   bandit  <NA>     7  0.0  0.1    ()\n18  17.183538  0   bandit  <NA>     3  0.0  0.1    ()\n19  19.098326  0   bandit  <NA>     4  0.0  0.1    ()",
      "text/html": "<div>\n<style scoped>\n    .dataframe tbody tr th:only-of-type {\n        vertical-align: middle;\n    }\n\n    .dataframe tbody tr th {\n        vertical-align: top;\n    }\n\n    .dataframe thead th {\n        text-align: right;\n    }\n</style>\n<table border=\"1\" class=\"dataframe\">\n  <thead>\n    <tr style=\"text-align: right;\">\n      <th></th>\n      <th>t</th>\n      <th>u</th>\n      <th>z</th>\n      <th>v</th>\n      <th>a</th>\n      <th>c</th>\n      <th>ps</th>\n      <th>ps-a</th>\n    </tr>\n  </thead>\n  <tbody>\n    <tr>\n      <th>0</th>\n      <td>0.000000</td>\n      <td>0</td>\n      <td>organic</td>\n      <td>0</td>\n      <td>&lt;NA&gt;</td>\n      <td>NaN</td>\n      <td>NaN</td>\n      <td>None</td>\n    </tr>\n    <tr>\n      <th>1</th>\n      <td>0.531791</td>\n      <td>0</td>\n      <td>organic</td>\n      <td>0</td>\n      <td>&lt;NA&gt;</td>\n      <td>NaN</td>\n      <td>NaN</td>\n      <td>None</td>\n    </tr>\n    <tr>\n      <th>2</th>\n      <td>0.708966</td>\n      <td>0</td>\n      <td>organic</td>\n      <td>0</td>\n      <td>&lt;NA&gt;</td>\n      <td>NaN</td>\n      <td>NaN</td>\n      <td>None</td>\n    </tr>\n    <tr>\n      <th>3</th>\n      <td>1.643586</td>\n      <td>0</td>\n      <td>organic</td>\n      <td>0</td>\n      <td>&lt;NA&gt;</td>\n      <td>NaN</td>\n      <td>NaN</td>\n      <td>None</td>\n    </tr>\n    <tr>\n      <th>4</th>\n      <td>1.930224</td>\n      <td>0</td>\n      <td>organic</td>\n      <td>0</td>\n      <td>&lt;NA&gt;</td>\n      <td>NaN</td>\n      <td>NaN</td>\n      <td>None</td>\n    </tr>\n    <tr>\n      <th>5</th>\n      <td>3.836575</td>\n      <td>0</td>\n      <td>organic</td>\n      <td>7</td>\n      <td>&lt;NA&gt;</td>\n      <td>NaN</td>\n      <td>NaN</td>\n      <td>None</td>\n    </tr>\n    <tr>\n      <th>6</th>\n      <td>5.602812</td>\n      <td>0</td>\n      <td>organic</td>\n      <td>8</td>\n      <td>&lt;NA&gt;</td>\n      <td>NaN</td>\n      <td>NaN</td>\n      <td>None</td>\n    </tr>\n    <tr>\n      <th>7</th>\n      <td>7.428866</td>\n      <td>0</td>\n      <td>organic</td>\n      <td>7</td>\n      <td>&lt;NA&gt;</td>\n      <td>NaN</td>\n      <td>NaN</td>\n      <td>None</td>\n    </tr>\n    <tr>\n      <th>8</th>\n      <td>7.752549</td>\n      <td>0</td>\n      <td>organic</td>\n      <td>8</td>\n      <td>&lt;NA&gt;</td>\n      <td>NaN</td>\n      <td>NaN</td>\n      <td>None</td>\n    </tr>\n    <tr>\n      <th>9</th>\n      <td>8.504993</td>\n      <td>0</td>\n      <td>organic</td>\n      <td>8</td>\n      <td>&lt;NA&gt;</td>\n      <td>NaN</td>\n      <td>NaN</td>\n      <td>None</td>\n    </tr>\n    <tr>\n      <th>10</th>\n      <td>10.507442</td>\n      <td>0</td>\n      <td>organic</td>\n      <td>8</td>\n      <td>&lt;NA&gt;</td>\n      <td>NaN</td>\n      <td>NaN</td>\n      <td>None</td>\n    </tr>\n    <tr>\n      <th>11</th>\n      <td>12.052252</td>\n      <td>0</td>\n      <td>organic</td>\n      <td>8</td>\n      <td>&lt;NA&gt;</td>\n      <td>NaN</td>\n      <td>NaN</td>\n      <td>None</td>\n    </tr>\n    <tr>\n      <th>12</th>\n      <td>14.947412</td>\n      <td>0</td>\n      <td>bandit</td>\n      <td>&lt;NA&gt;</td>\n      <td>3</td>\n      <td>0.0</td>\n      <td>0.1</td>\n      <td>()</td>\n    </tr>\n    <tr>\n      <th>13</th>\n      <td>15.178056</td>\n      <td>0</td>\n      <td>bandit</td>\n      <td>&lt;NA&gt;</td>\n      <td>4</td>\n      <td>0.0</td>\n      <td>0.1</td>\n      <td>()</td>\n    </tr>\n    <tr>\n      <th>14</th>\n      <td>15.581151</td>\n      <td>0</td>\n      <td>bandit</td>\n      <td>&lt;NA&gt;</td>\n      <td>8</td>\n      <td>0.0</td>\n      <td>0.1</td>\n      <td>()</td>\n    </tr>\n    <tr>\n      <th>15</th>\n      <td>15.948684</td>\n      <td>0</td>\n      <td>bandit</td>\n      <td>&lt;NA&gt;</td>\n      <td>2</td>\n      <td>0.0</td>\n      <td>0.1</td>\n      <td>()</td>\n    </tr>\n    <tr>\n      <th>16</th>\n      <td>16.389811</td>\n      <td>0</td>\n      <td>bandit</td>\n      <td>&lt;NA&gt;</td>\n      <td>9</td>\n      <td>0.0</td>\n      <td>0.1</td>\n      <td>()</td>\n    </tr>\n    <tr>\n      <th>17</th>\n      <td>16.623041</td>\n      <td>0</td>\n      <td>bandit</td>\n      <td>&lt;NA&gt;</td>\n      <td>7</td>\n      <td>0.0</td>\n      <td>0.1</td>\n      <td>()</td>\n    </tr>\n    <tr>\n      <th>18</th>\n      <td>17.183538</td>\n      <td>0</td>\n      <td>bandit</td>\n      <td>&lt;NA&gt;</td>\n      <td>3</td>\n      <td>0.0</td>\n      <td>0.1</td>\n      <td>()</td>\n    </tr>\n    <tr>\n      <th>19</th>\n      <td>19.098326</td>\n      <td>0</td>\n      <td>bandit</td>\n      <td>&lt;NA&gt;</td>\n      <td>4</td>\n      <td>0.0</td>\n      <td>0.1</td>\n      <td>()</td>\n    </tr>\n  </tbody>\n</table>\n</div>"
     },
     "execution_count": 19,
     "metadata": {},
     "output_type": "execute_result"
    }
   ],
   "source": [
    "data_04[:NumberOfSamples]"
   ]
  },
  {
   "cell_type": "code",
   "execution_count": 20,
   "metadata": {},
   "outputs": [
    {
     "name": "stdout",
     "output_type": "stream",
     "text": [
      "Data Shape:\n",
      " (59, 8)\n"
     ]
    }
   ],
   "source": [
    "print(\"Data Shape:\\n\", data_04.shape)"
   ]
  },
  {
   "cell_type": "markdown",
   "metadata": {
    "pycharm": {}
   },
   "source": [
    "## Logistic Regression with a Feature Set Built with Time\n",
    "\n",
    "In _[Likelihood Agents](./Likelihood%20Agents.ipynb)_ notebook you can find a study related to a feature set that incorporates the notion _Time_.\n",
    "\n",
    "Now, having a non-linear _Time Generator_, we are going to check how that affects _`Agent`_ performance.\n",
    "\n",
    "To make the study more complecated, we are going to change the state of _RecoGym_ _**both**_ for _Bandit_ and _Organic_ _`Events`_ (by default, only _Organic_ _`Events`_ change the state i.e. $\\omega_{u,t}$).\n",
    "\n",
    "Below, you shall find performance of different _`Agents`_ with different history functions, namely:\n",
    "* $\\frac{1}{1 + t}$\n",
    "* $\\frac{1}{1 + \\ln(1 + t)}$\n",
    "* $e^{-t}$"
   ]
  },
  {
   "cell_type": "code",
   "execution_count": 21,
   "metadata": {},
   "outputs": [],
   "source": [
    "from recogym import Configuration\n",
    "\n",
    "from recogym.agents import RandomAgent, random_args\n",
    "from recogym.agents import LogregPolyAgent, logreg_poly_args\n",
    "\n",
    "def build_exploration_data(\n",
    "        env,\n",
    "        time_functions,\n",
    "        num_initial_train_users = 10000,\n",
    "        num_step_users = 10000\n",
    "):\n",
    "    time_env = {\n",
    "        **env_1_args,\n",
    "        'change_omega_for_bandits': True,\n",
    "        'time_generator': NormalTimeGenerator(Configuration({\n",
    "            **env_1_args,\n",
    "            'normal_time_mu': 1,\n",
    "            'normal_time_sigma': 1,\n",
    "        })),\n",
    "    }\n",
    "\n",
    "    def test_agents(agents):\n",
    "        for agent_key in agents:\n",
    "            stats = recogym.test_agent(\n",
    "                deepcopy(env),\n",
    "                deepcopy(agents[agent_key]),\n",
    "                10000,\n",
    "                10000\n",
    "            )\n",
    "            print(f\"Agent: {agent_key}\\n\", stats)\n",
    "\n",
    "    print(\"Agents without History Functions\")\n",
    "    test_agents(\n",
    "        {\n",
    "            'Logreg Poly': LogregPolyAgent(Configuration({\n",
    "                **env_1_args,\n",
    "                **logreg_poly_args,\n",
    "            })),\n",
    "            'Logreg Poly IPS': LogregPolyAgent(Configuration({\n",
    "                **env_1_args,\n",
    "                **logreg_poly_args,\n",
    "                'with_ips': True,\n",
    "            })),\n",
    "        }\n",
    "    )\n",
    "\n",
    "    for time_function_key in time_functions:\n",
    "        print(f\"Agents wit History Function: {time_function_key}\")\n",
    "        time_function = time_functions[time_function_key]\n",
    "        test_agents(\n",
    "            {\n",
    "                'Logreg Poly with History': LogregPolyAgent(Configuration({\n",
    "                    **env_1_args,\n",
    "                    **logreg_poly_args,\n",
    "                    'weight_history_function': time_function,\n",
    "                })),\n",
    "                'Logreg Poly IPS with History': LogregPolyAgent(Configuration({\n",
    "                    **env_1_args,\n",
    "                    **logreg_poly_args,\n",
    "                    'with_ips': True,\n",
    "                    'weight_history_function': time_function,\n",
    "                }))\n",
    "            }\n",
    "        )"
   ]
  },
  {
   "cell_type": "code",
   "execution_count": null,
   "metadata": {
    "pycharm": {
     "is_executing": true
    }
   },
   "outputs": [
    {
     "name": "stderr",
     "output_type": "stream",
     "text": [
      "Organic Users: 0it [00:00, ?it/s]\n",
      "Users:   1%|          | 64/10000 [00:01<04:23, 37.75it/s]"
     ]
    },
    {
     "name": "stdout",
     "output_type": "stream",
     "text": [
      "Agents without History Functions\n",
      "START: Agent Training #0\n",
      "START: Agent Training @ Epoch #0\n"
     ]
    }
   ],
   "source": [
    "import numpy as np\n",
    "\n",
    "build_exploration_data(\n",
    "    env,\n",
    "    {\n",
    "        '1/(1 + t)': lambda t: 1.0 / (1.0 + t),\n",
    "        '1/(1 + ln(1 + t))': lambda t: 1.0 / (1.0 + np.log(1.0 + t)),\n",
    "        'exp(-t)': lambda t: np.exp(-1.0 * t),\n",
    "    }\n",
    ")"
   ]
  },
  {
   "cell_type": "markdown",
   "metadata": {
    "pycharm": {}
   },
   "source": [
    "# Conclusion\n",
    "\n",
    "The notion _time_ definitely plays an important role in click prediction. Therefore, the ability to define a complex time behaviour in _RecoGym_ allows to simulate more realistic scenarios, as result, it allows to approbate some nontrivial models."
   ]
  }
 ],
 "metadata": {
  "kernelspec": {
   "display_name": "Python 3",
   "language": "python",
   "name": "python3"
  },
  "language_info": {
   "codemirror_mode": {
    "name": "ipython",
    "version": 3
   },
   "file_extension": ".py",
   "mimetype": "text/x-python",
   "name": "python",
   "nbconvert_exporter": "python",
   "pygments_lexer": "ipython3",
   "version": "3.8.2"
  }
 },
 "nbformat": 4,
 "nbformat_minor": 2
}