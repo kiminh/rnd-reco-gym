{
 "cells": [
  {
   "cell_type": "markdown",
   "metadata": {},
   "source": [
    "## Comparing Agent Performance\n",
    "\n",
    "This notebook compares the performance of a selection of our included agents. The results presented are the median CTR\n",
    "that one would achieve if the agent were used to recommend products to 100 test users after being trained."
   ]
  },
  {
   "cell_type": "code",
   "execution_count": 1,
   "metadata": {},
   "outputs": [
    {
     "name": "stdout",
     "output_type": "stream",
     "text": [
      "BanditCount %%%% num_products: 100\n",
      "RandomAgent %%%% num_products: 100\n"
     ]
    }
   ],
   "source": [
    "import gym, recogym\n",
    "from recogym import env_1_args\n",
    "\n",
    "from copy import deepcopy\n",
    "\n",
    "env_1_args['random_seed'] = 42\n",
    "env_1_args['num_products'] = 100\n",
    "\n",
    "env = gym.make('reco-gym-v1')\n",
    "env.init_gym(env_1_args)\n",
    "\n",
    "from recogym.agents import BanditMFSquare, bandit_mf_square_args\n",
    "from recogym.agents import BanditCount, bandit_count_args\n",
    "from recogym.agents import RandomAgent, random_args\n",
    "from recogym import Configuration\n",
    "\n",
    "agent_banditmfsquare = BanditMFSquare(Configuration({\n",
    "    **bandit_mf_square_args,\n",
    "    **env_1_args,\n",
    "}))\n",
    "agent_banditcount = BanditCount(Configuration({\n",
    "    **bandit_count_args,\n",
    "    **env_1_args,\n",
    "}))\n",
    "agent_rand = RandomAgent(Configuration({\n",
    "    **random_args,\n",
    "    **env_1_args,\n",
    "}))"
   ]
  },
  {
   "cell_type": "code",
   "execution_count": 2,
   "metadata": {},
   "outputs": [
    {
     "name": "stderr",
     "output_type": "stream",
     "text": [
      "Organic Users: 0it [00:00, ?it/s]\n",
      "Users:   0%|          | 0/1000 [00:00<?, ?it/s]"
     ]
    },
    {
     "name": "stdout",
     "output_type": "stream",
     "text": [
      "START: Agent Training #0\n",
      "START: Agent <recogym.agents.random_agent.RandomAgent object at 0x10c209390> Training: offline users 1000 @ Epoch #0\n"
     ]
    },
    {
     "name": "stderr",
     "output_type": "stream",
     "text": [
      "Users: 100%|██████████| 1000/1000 [00:17<00:00, 55.71it/s]\n",
      "Organic Users: 0it [00:00, ?it/s]\n",
      "Users:   1%|          | 7/1000 [00:00<00:14, 69.30it/s]"
     ]
    },
    {
     "name": "stdout",
     "output_type": "stream",
     "text": [
      "END: Agent Training @ Epoch #0 (17.958183765411377s)\n",
      "START: Agent Evaluating online users 1000 @ Epoch #0\n"
     ]
    },
    {
     "name": "stderr",
     "output_type": "stream",
     "text": [
      "Users: 100%|██████████| 1000/1000 [00:19<00:00, 51.17it/s]\n"
     ]
    },
    {
     "name": "stdout",
     "output_type": "stream",
     "text": [
      "END: Agent Evaluating @ Epoch #0 (19.678795099258423s)\n"
     ]
    },
    {
     "data": {
      "text/plain": [
       "(0.009163083488403513, 0.009841530644539048, 0.010552328652439158)"
      ]
     },
     "execution_count": 2,
     "metadata": {},
     "output_type": "execute_result"
    }
   ],
   "source": [
    "# Credible interval of the CTR median and 0.025 0.975 quantile.\n",
    "recogym.test_agent(deepcopy(env), deepcopy(agent_rand), 1000, 1000)"
   ]
  },
  {
   "cell_type": "code",
   "execution_count": 3,
   "metadata": {},
   "outputs": [
    {
     "name": "stderr",
     "output_type": "stream",
     "text": [
      "Organic Users: 0it [00:00, ?it/s]\n",
      "Users:   0%|          | 4/1000 [00:00<00:28, 34.61it/s]"
     ]
    },
    {
     "name": "stdout",
     "output_type": "stream",
     "text": [
      "START: Agent Training #0\n",
      "START: Agent <recogym.agents.bandit_count.BanditCount object at 0x13116f910> Training: offline users 1000 @ Epoch #0\n"
     ]
    },
    {
     "name": "stderr",
     "output_type": "stream",
     "text": [
      "Users: 100%|██████████| 1000/1000 [00:20<00:00, 50.00it/s]\n",
      "Organic Users: 0it [00:00, ?it/s]\n",
      "Users:   1%|          | 8/1000 [00:00<00:12, 79.43it/s]"
     ]
    },
    {
     "name": "stdout",
     "output_type": "stream",
     "text": [
      "END: Agent Training @ Epoch #0 (20.004718780517578s)\n",
      "START: Agent Evaluating online users 1000 @ Epoch #0\n"
     ]
    },
    {
     "name": "stderr",
     "output_type": "stream",
     "text": [
      "Users: 100%|██████████| 1000/1000 [00:17<00:00, 55.70it/s]\n"
     ]
    },
    {
     "name": "stdout",
     "output_type": "stream",
     "text": [
      "END: Agent Evaluating @ Epoch #0 (18.124396800994873s)\n"
     ]
    },
    {
     "data": {
      "text/plain": [
       "(0.012907625884488641, 0.013717019494475985, 0.01455908365001457)"
      ]
     },
     "execution_count": 3,
     "metadata": {},
     "output_type": "execute_result"
    }
   ],
   "source": [
    "# Credible interval of the CTR median and 0.025 0.975 quantile.\n",
    "recogym.test_agent(deepcopy(env), deepcopy(agent_banditcount), 1000, 1000)"
   ]
  },
  {
   "cell_type": "code",
   "execution_count": 4,
   "metadata": {},
   "outputs": [
    {
     "name": "stderr",
     "output_type": "stream",
     "text": [
      "Organic Users: 0it [00:00, ?it/s]\n",
      "Users:   0%|          | 4/1000 [00:00<00:31, 31.88it/s]"
     ]
    },
    {
     "name": "stdout",
     "output_type": "stream",
     "text": [
      "START: Agent Training #0\n",
      "START: Agent BanditMFSquare(\n",
      "  (product_embedding): Embedding(100, 5)\n",
      "  (user_embedding): Embedding(100, 5)\n",
      ") Training: offline users 1000 @ Epoch #0\n"
     ]
    },
    {
     "name": "stderr",
     "output_type": "stream",
     "text": [
      "Users: 100%|██████████| 1000/1000 [00:22<00:00, 44.30it/s]\n",
      "Organic Users: 0it [00:00, ?it/s]\n",
      "Users:   1%|          | 7/1000 [00:00<00:20, 49.61it/s]"
     ]
    },
    {
     "name": "stdout",
     "output_type": "stream",
     "text": [
      "END: Agent Training @ Epoch #0 (22.577062845230103s)\n",
      "START: Agent Evaluating online users 1000 @ Epoch #0\n"
     ]
    },
    {
     "name": "stderr",
     "output_type": "stream",
     "text": [
      "Users: 100%|██████████| 1000/1000 [00:30<00:00, 33.12it/s]\n"
     ]
    },
    {
     "name": "stdout",
     "output_type": "stream",
     "text": [
      "END: Agent Evaluating @ Epoch #0 (30.32013511657715s)\n"
     ]
    },
    {
     "data": {
      "text/plain": [
       "(0.012335110219876598, 0.013120254911025349, 0.013937579562077085)"
      ]
     },
     "execution_count": 4,
     "metadata": {},
     "output_type": "execute_result"
    }
   ],
   "source": [
    "# Credible interval of the CTR median and 0.025 0.975 quantile.\n",
    "recogym.test_agent(deepcopy(env), deepcopy(agent_banditmfsquare), 1000, 1000)"
   ]
  },
  {
   "cell_type": "markdown",
   "metadata": {},
   "source": [
    "As can be seen from the higher median CTR, the _`Agent`_ which performs matrix factorisation on the bandit data performs the best!"
   ]
  }
 ],
 "metadata": {
  "kernelspec": {
   "display_name": "Python 3",
   "language": "python",
   "name": "python3"
  },
  "language_info": {
   "codemirror_mode": {
    "name": "ipython",
    "version": 3
   },
   "file_extension": ".py",
   "mimetype": "text/x-python",
   "name": "python",
   "nbconvert_exporter": "python",
   "pygments_lexer": "ipython3",
   "version": "3.7.7"
  }
 },
 "nbformat": 4,
 "nbformat_minor": 2
}
