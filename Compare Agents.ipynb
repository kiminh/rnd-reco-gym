{
 "cells": [
  {
   "cell_type": "markdown",
   "metadata": {},
   "source": [
    "## Comparing Agent Performance\n",
    "\n",
    "This notebook compares the performance of a selection of our included agents. The results presented are the median CTR\n",
    "that one would achieve if the agent were used to recommend products to 100 test users after being trained."
   ]
  },
  {
   "cell_type": "code",
   "execution_count": 1,
   "metadata": {},
   "outputs": [
    {
     "name": "stdout",
     "output_type": "stream",
     "text": [
      "BanditCount %%%% num_products: 100\n",
      "RandomAgent %%%% num_products: 100\n"
     ]
    }
   ],
   "source": [
    "import gym, recogym\n",
    "from recogym import env_1_args\n",
    "\n",
    "from copy import deepcopy\n",
    "\n",
    "env_1_args['random_seed'] = 42\n",
    "env_1_args['num_products'] = 100\n",
    "\n",
    "env = gym.make('reco-gym-v1')\n",
    "env.init_gym(env_1_args)\n",
    "\n",
    "from recogym.agents import BanditMFSquare, bandit_mf_square_args\n",
    "from recogym.agents import BanditCount, bandit_count_args\n",
    "from recogym.agents import RandomAgent, random_args\n",
    "from recogym import Configuration\n",
    "\n",
    "agent_banditmfsquare = BanditMFSquare(Configuration({\n",
    "    **bandit_mf_square_args,\n",
    "    **env_1_args,\n",
    "}))\n",
    "agent_banditcount = BanditCount(Configuration({\n",
    "    **bandit_count_args,\n",
    "    **env_1_args,\n",
    "}))\n",
    "agent_rand = RandomAgent(Configuration({\n",
    "    **random_args,\n",
    "    **env_1_args,\n",
    "}))"
   ]
  },
  {
   "cell_type": "code",
   "execution_count": 2,
   "metadata": {},
   "outputs": [
    {
     "name": "stderr",
     "output_type": "stream",
     "text": [
      "Organic Users: 0it [00:00, ?it/s]\n",
      "Users:   0%|          | 0/1000 [00:00<?, ?it/s]"
     ]
    },
    {
     "name": "stdout",
     "output_type": "stream",
     "text": [
      "START: Agent Training #0\n",
      "START: Agent Training @ Epoch #0\n"
     ]
    },
    {
     "name": "stderr",
     "output_type": "stream",
     "text": [
      "Users: 100%|██████████| 1000/1000 [00:19<00:00, 50.95it/s]\n",
      "Organic Users: 0it [00:00, ?it/s]\n",
      "Users:   1%|          | 7/1000 [00:00<00:16, 61.47it/s]"
     ]
    },
    {
     "name": "stdout",
     "output_type": "stream",
     "text": [
      "END: Agent Training @ Epoch #0 (19.62899422645569s)\n",
      "START: Agent Evaluating @ Epoch #0\n"
     ]
    },
    {
     "name": "stderr",
     "output_type": "stream",
     "text": [
      "Users: 100%|██████████| 1000/1000 [00:18<00:00, 53.26it/s]\n"
     ]
    },
    {
     "name": "stdout",
     "output_type": "stream",
     "text": [
      "END: Agent Evaluating @ Epoch #0 (18.922896146774292s)\n"
     ]
    },
    {
     "data": {
      "text/plain": [
       "(0.009163083488403513, 0.009841530644539048, 0.010552328652439158)"
      ]
     },
     "execution_count": 2,
     "metadata": {},
     "output_type": "execute_result"
    }
   ],
   "source": [
    "# Credible interval of the CTR median and 0.025 0.975 quantile.\n",
    "recogym.test_agent(deepcopy(env), deepcopy(agent_rand), 1000, 1000)"
   ]
  },
  {
   "cell_type": "code",
   "execution_count": 3,
   "metadata": {},
   "outputs": [
    {
     "name": "stderr",
     "output_type": "stream",
     "text": [
      "Organic Users: 0it [00:00, ?it/s]\n",
      "Users:   0%|          | 3/1000 [00:00<00:40, 24.52it/s]"
     ]
    },
    {
     "name": "stdout",
     "output_type": "stream",
     "text": [
      "START: Agent Training #0\n",
      "START: Agent Training @ Epoch #0\n"
     ]
    },
    {
     "name": "stderr",
     "output_type": "stream",
     "text": [
      "Users: 100%|██████████| 1000/1000 [00:20<00:00, 48.48it/s]\n",
      "Organic Users: 0it [00:00, ?it/s]\n",
      "Users:   1%|          | 7/1000 [00:00<00:15, 62.28it/s]"
     ]
    },
    {
     "name": "stdout",
     "output_type": "stream",
     "text": [
      "END: Agent Training @ Epoch #0 (20.632225036621094s)\n",
      "START: Agent Evaluating @ Epoch #0\n"
     ]
    },
    {
     "name": "stderr",
     "output_type": "stream",
     "text": [
      "Users: 100%|██████████| 1000/1000 [00:18<00:00, 53.55it/s]\n"
     ]
    },
    {
     "name": "stdout",
     "output_type": "stream",
     "text": [
      "END: Agent Evaluating @ Epoch #0 (18.854051113128662s)\n"
     ]
    },
    {
     "data": {
      "text/plain": [
       "(0.012907625884488641, 0.013717019494475985, 0.01455908365001457)"
      ]
     },
     "execution_count": 3,
     "metadata": {},
     "output_type": "execute_result"
    }
   ],
   "source": [
    "# Credible interval of the CTR median and 0.025 0.975 quantile.\n",
    "recogym.test_agent(deepcopy(env), deepcopy(agent_banditcount), 1000, 1000)"
   ]
  },
  {
   "cell_type": "code",
   "execution_count": 4,
   "metadata": {},
   "outputs": [
    {
     "name": "stderr",
     "output_type": "stream",
     "text": [
      "Organic Users: 0it [00:00, ?it/s]\n",
      "Users:   0%|          | 4/1000 [00:00<00:33, 29.92it/s]"
     ]
    },
    {
     "name": "stdout",
     "output_type": "stream",
     "text": [
      "START: Agent Training #0\n",
      "START: Agent Training @ Epoch #0\n"
     ]
    },
    {
     "name": "stderr",
     "output_type": "stream",
     "text": [
      "Users: 100%|██████████| 1000/1000 [00:22<00:00, 44.73it/s]\n",
      "Organic Users: 0it [00:00, ?it/s]\n",
      "Users:   1%|          | 6/1000 [00:00<00:16, 59.93it/s]"
     ]
    },
    {
     "name": "stdout",
     "output_type": "stream",
     "text": [
      "END: Agent Training @ Epoch #0 (22.358765840530396s)\n",
      "START: Agent Evaluating @ Epoch #0\n"
     ]
    },
    {
     "name": "stderr",
     "output_type": "stream",
     "text": [
      "Users: 100%|██████████| 1000/1000 [00:29<00:00, 33.89it/s]\n"
     ]
    },
    {
     "name": "stdout",
     "output_type": "stream",
     "text": [
      "END: Agent Evaluating @ Epoch #0 (29.641871690750122s)\n"
     ]
    },
    {
     "data": {
      "text/plain": [
       "(0.013568111481075396, 0.014399782151587132, 0.01526425832818723)"
      ]
     },
     "execution_count": 4,
     "metadata": {},
     "output_type": "execute_result"
    }
   ],
   "source": [
    "# Credible interval of the CTR median and 0.025 0.975 quantile.\n",
    "recogym.test_agent(deepcopy(env), deepcopy(agent_banditmfsquare), 1000, 1000)"
   ]
  },
  {
   "cell_type": "markdown",
   "metadata": {},
   "source": [
    "As can be seen from the higher median CTR, the _`Agent`_ which performs matrix factorisation on the bandit data performs the best!"
   ]
  }
 ],
 "metadata": {
  "kernelspec": {
   "display_name": "Python 3",
   "language": "python",
   "name": "python3"
  },
  "language_info": {
   "codemirror_mode": {
    "name": "ipython",
    "version": 3
   },
   "file_extension": ".py",
   "mimetype": "text/x-python",
   "name": "python",
   "nbconvert_exporter": "python",
   "pygments_lexer": "ipython3",
   "version": "3.7.7"
  }
 },
 "nbformat": 4,
 "nbformat_minor": 2
}
