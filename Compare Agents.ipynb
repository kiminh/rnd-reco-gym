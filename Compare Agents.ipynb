{
 "cells": [
  {
   "cell_type": "markdown",
   "metadata": {},
   "source": [
    "## Comparing Agent Performance\n",
    "\n",
    "This notebook compares the performance of a selection of our included agents. The results presented are the median CTR that one would achieve if the agent were used to recommend products to 100 test users after being trained."
   ]
  },
  {
   "cell_type": "code",
   "execution_count": 1,
   "metadata": {},
   "outputs": [],
   "source": [
    "import gym, recogym\n",
    "from recogym import env_1_args\n",
    "\n",
    "from copy import deepcopy\n",
    "\n",
    "env_1_args['random_seed'] = 42\n",
    "env_1_args['num_products'] = 100\n",
    "\n",
    "env = gym.make('reco-gym-v1')\n",
    "env.init_gym(env_1_args)\n",
    "\n",
    "from recogym.agents import BanditMFSquare, bandit_mf_square_args\n",
    "from recogym.agents import BanditCount, bandit_count_args\n",
    "from recogym.agents import RandomAgent, random_args\n",
    "from recogym import Configuration\n",
    "\n",
    "agent_banditmfsquare = BanditMFSquare(Configuration({\n",
    "    **bandit_mf_square_args,\n",
    "    **env_1_args,\n",
    "}))\n",
    "agent_banditcount = BanditCount(Configuration({\n",
    "    **bandit_count_args,\n",
    "    **env_1_args,\n",
    "}))\n",
    "agent_rand = RandomAgent(Configuration({\n",
    "    **random_args,\n",
    "    **env_1_args,\n",
    "}))"
   ]
  },
  {
   "cell_type": "code",
   "execution_count": 2,
   "metadata": {},
   "outputs": [
    {
     "name": "stdout",
     "output_type": "stream",
     "text": [
      "Start: Agent Training #0\n",
      "Start: Agent Testing #0\n",
      "End: Agent Testing #0 (14.536654710769653s)\n"
     ]
    },
    {
     "data": {
      "text/plain": [
       "(0.010774758750574964, 0.010069609765435028, 0.011511718466919452)"
      ]
     },
     "execution_count": 2,
     "metadata": {},
     "output_type": "execute_result"
    }
   ],
   "source": [
    "# Credible interval of the CTR median and 0.025 0.975 quantile.\n",
    "recogym.test_agent(deepcopy(env), deepcopy(agent_rand), 1000, 1000) "
   ]
  },
  {
   "cell_type": "code",
   "execution_count": 3,
   "metadata": {},
   "outputs": [
    {
     "name": "stdout",
     "output_type": "stream",
     "text": [
      "Start: Agent Training #0\n",
      "Start: Agent Testing #0\n",
      "End: Agent Testing #0 (18.527422428131104s)\n"
     ]
    },
    {
     "data": {
      "text/plain": [
       "(0.013653638056400732, 0.012852823061549362, 0.014486577529905231)"
      ]
     },
     "execution_count": 3,
     "metadata": {},
     "output_type": "execute_result"
    }
   ],
   "source": [
    "# Credible interval of the CTR median and 0.025 0.975 quantile.\n",
    "recogym.test_agent(deepcopy(env), deepcopy(agent_banditcount), 1000, 1000)"
   ]
  },
  {
   "cell_type": "code",
   "execution_count": 4,
   "metadata": {},
   "outputs": [
    {
     "name": "stdout",
     "output_type": "stream",
     "text": [
      "Start: Agent Training #0\n",
      "Start: Agent Testing #0\n",
      "End: Agent Testing #0 (804.8363463878632s)\n"
     ]
    },
    {
     "data": {
      "text/plain": [
       "(0.017361622050067676, 0.01645534748102284, 0.01829997935174099)"
      ]
     },
     "execution_count": 4,
     "metadata": {},
     "output_type": "execute_result"
    }
   ],
   "source": [
    "# Credible interval of the CTR median and 0.025 0.975 quantile.\n",
    "recogym.test_agent(deepcopy(env), deepcopy(agent_banditmfsquare), 1000, 1000)"
   ]
  },
  {
   "cell_type": "markdown",
   "metadata": {},
   "source": [
    "As can be seen from the higher median CTR, the _`Agent`_ which performs matrix factorisation on the bandit data performs the best!"
   ]
  }
 ],
 "metadata": {
  "kernelspec": {
   "display_name": "Python 3",
   "language": "python",
   "name": "python3"
  },
  "language_info": {
   "codemirror_mode": {
    "name": "ipython",
    "version": 3
   },
   "file_extension": ".py",
   "mimetype": "text/x-python",
   "name": "python",
   "nbconvert_exporter": "python",
   "pygments_lexer": "ipython3",
   "version": "3.8.2"
  }
 },
 "nbformat": 4,
 "nbformat_minor": 2
}